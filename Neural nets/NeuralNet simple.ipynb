{
 "cells": [
  {
   "cell_type": "markdown",
   "metadata": {},
   "source": [
    "В цій практичній роботі ми спробуємо реалізувати нейронну мережу з двох шарів (прихований і вихідний). Запропонований підхід стане заготовкою для реалізації наступних оптимізацій: MBGD, ADAM та регуляризації. \n",
    "\n",
    "Сьогодні ж вам пропонується додати до цього класу підтримку довільної кількості шарів та нейронів в них (наприклад, передавати їх параметром в конструктор, як це робиться в MLPClassifier за допомогою hidden_layer_sizes). Також потрібно передбачити можливість ранньої зупинки ітераційного процесу, якщо значення штрафної функції не покращуватиметься протягом певної кількості ітерацій. Наприклад, якщо протягом $k$ ітерацій штрафна функція за модулем не стане меншою, ніж на поточному кроці."
   ]
  },
  {
   "cell_type": "code",
   "execution_count": 1,
   "metadata": {},
   "outputs": [],
   "source": [
    "import numpy as np\n",
    "import pandas as pd\n",
    "from sklearn.model_selection import train_test_split\n",
    "from mpl_toolkits.mplot3d import Axes3D\n",
    "import matplotlib.pyplot as plt\n",
    "\n",
    "from matplotlib.colors import ListedColormap\n",
    "cm_bright = ListedColormap(['#FF0000', '#0000FF'])\n",
    "%matplotlib inline\n",
    "from sklearn.metrics import accuracy_score\n",
    "\n",
    "import sklearn.linear_model\n",
    "\n",
    "np.random.seed(1)"
   ]
  },
  {
   "cell_type": "code",
   "execution_count": 2,
   "metadata": {},
   "outputs": [],
   "source": [
    "def plot_surface(cls, x_1, x_2, ax=None, threshold=0.5, contourf=False):\n",
    "    xx1, xx2 = np.meshgrid(np.linspace(x_1.min(), x_1.max(), 100), \n",
    "                           np.linspace(x_2.min(), x_2.max(), 100))\n",
    "\n",
    "    X_pred = np.c_[xx1.ravel(), xx2.ravel()]\n",
    "    pred = cls.predict_proba(X_pred)[:, 0]\n",
    "    Z = pred.reshape((100, 100))\n",
    "    if ax is None:\n",
    "        ax = plt.gca()\n",
    "    ax.contour(xx1, xx2, Z, levels=[threshold], colors='black')\n",
    "    ax.set_xlim((x_1.min(), x_1.max()))\n",
    "    ax.set_ylim((x_2.min(), x_2.max()))"
   ]
  },
  {
   "cell_type": "code",
   "execution_count": 3,
   "metadata": {},
   "outputs": [],
   "source": [
    "def plot_data(X, y):\n",
    "    ax = plt.gca()\n",
    "    ax.scatter(X[:,0], X[:,1], c=(y == 1), cmap=cm_bright)"
   ]
  },
  {
   "cell_type": "code",
   "execution_count": 4,
   "metadata": {},
   "outputs": [],
   "source": [
    "class DeepNeuralNet:\n",
    "    \"\"\"\n",
    "    NN for binary classification\n",
    "    Attributes:\n",
    "    ...\n",
    "    \"\"\"\n",
    "    \n",
    "    def __init__(self, layer_dims, normalize = True, learning_rate = 0.01, num_iter = 30000):\n",
    "        self.learning_rate = learning_rate\n",
    "        self.num_iter = num_iter\n",
    "        self.normalize = normalize\n",
    "        self.layer_dims = layer_dims\n",
    "    \n",
    "    def __normalize(self, X, mean = None, std = None):\n",
    "        \"\"\"\n",
    "        Зверніть увагу, що нормалізація вхідних даних є дуже важливою для швидкодії нейронних мереж.\n",
    "        \"\"\"\n",
    "        n = X.shape[0]\n",
    "        m = mean\n",
    "        if m is None:\n",
    "            m = np.mean(X, axis=1).reshape((n, 1))\n",
    "        s = std\n",
    "        if s is None:\n",
    "            s = np.std(X, axis=1).reshape((n, 1))\n",
    "        X_new = (X - m) / s**2\n",
    "        return X_new, m, s\n",
    "\n",
    "    def __sigmoid(self, Z):\n",
    "        \"\"\"\n",
    "        В наступних практичних потрібно буде додати підтримку й інших активаційних функцій - це один з гіперпараметрів. \n",
    "        Їх можна вибирати для всіх шарів одночасно або мати різні активаційні функції на кожному з них.\n",
    "        \"\"\"\n",
    "        return 1 / (1 + np.exp(-Z))\n",
    "    \n",
    "    \n",
    "    \n",
    "    def __initialize_parameters(self):\n",
    "        layer_dims = self.layer_dims\n",
    "        parameters = {}\n",
    "        L = len(layer_dims)\n",
    "\n",
    "        for l in range(1, L):\n",
    "            parameters['W' + str(l)] = np.random.randn(layer_dims[l], layer_dims[l-1]) * 0.01\n",
    "            parameters['b' + str(l)] = np.zeros((layer_dims[l], 1))\n",
    "        \n",
    "        self.parameters = parameters\n",
    "\n",
    "###################################### Forvard part ########################################################\n",
    "    def __forward_linear_activation(self, A_prev, W, b):\n",
    "        \n",
    "        # linear forward\n",
    "        Z = np.dot(W, A_prev) + b\n",
    "        linear_cache = (A_prev, W, b)\n",
    "    \n",
    "        # activation forward\n",
    "        A = self.__sigmoid(Z)\n",
    "        activation_cache = Z\n",
    "        \n",
    "        cache = (linear_cache, activation_cache)\n",
    "\n",
    "        return A, cache\n",
    "    \n",
    "    def __multilayer_forward(self, X):       \n",
    "        parameters = self.parameters\n",
    "        caches = []\n",
    "        A = X\n",
    "        L = len(parameters) // 2\n",
    "\n",
    "        for l in range(1, L):\n",
    "            A_prev = A \n",
    "            A, cache = self.__forward_linear_activation(A_prev, parameters[\"W\"+str(l)], parameters[\"b\"+str(l)])\n",
    "            caches.append(cache)\n",
    "            \n",
    "        AL, cache = self.__forward_linear_activation(A, parameters[\"W\"+str(L)], parameters[\"b\"+str(L)])\n",
    "        caches.append(cache)\n",
    "        \n",
    "        assert(AL.shape == (1,X.shape[1]))\n",
    "\n",
    "        return AL, caches\n",
    "\n",
    "###################################### Backward part ########################################################\n",
    "    def __backward_linear_activation(self, dA, cache):\n",
    "        \n",
    "        linear_cache, activation_cache = cache\n",
    "        \n",
    "        # activation backward\n",
    "        Z = activation_cache\n",
    "        s = 1/(1+np.exp(-Z))\n",
    "        dZ = dA * s * (1-s)\n",
    "        \n",
    "        # linear backward\n",
    "        A_prev, W, b = linear_cache\n",
    "        m = A_prev.shape[1]\n",
    "        dW = 1 / m * np.dot(dZ, A_prev.T)\n",
    "        db = 1 / m * np.sum(dZ, axis=1, keepdims=True)\n",
    "        dA_prev = np.dot(W.T, dZ)\n",
    "        \n",
    "        return dA_prev, dW, db\n",
    "\n",
    "\n",
    "    def __multilayer_backward(self, X, Y, caches):\n",
    "        grads = {}\n",
    "        AL = X\n",
    "        L = len(caches) # the number of layers\n",
    "        m = AL.shape[1]\n",
    "        Y = Y.reshape(AL.shape) # after this line, Y is the same shape as AL\n",
    "\n",
    "        # Initializing the backpropagation\n",
    "        ### START CODE HERE ### (1 line of code)\n",
    "        dAL = -(np.divide(Y, AL) - np.divide(1 - Y, 1 - AL))\n",
    "        ### END CODE HERE ###\n",
    "\n",
    "        current_cache = caches[L-1]\n",
    "        grads[\"dA\" + str(L-1)], grads[\"dW\" + str(L)], grads[\"db\" + str(L)] = self.__backward_linear_activation(dAL, current_cache)\n",
    "        \n",
    "        for l in reversed(range(L-1)):\n",
    "            current_cache = caches[l]\n",
    "            dA_prev_temp, dW_temp, db_temp = self.__backward_linear_activation(grads[\"dA\" + str(l + 1)], current_cache)\n",
    "            grads[\"dA\" + str(l)] = dA_prev_temp\n",
    "            grads[\"dW\" + str(l + 1)] = dW_temp\n",
    "            grads[\"db\" + str(l + 1)] = db_temp\n",
    "            \n",
    "        return grads\n",
    "    \n",
    "################################################################################################################\n",
    "    \n",
    "    def compute_cost(self, A, Y):\n",
    "        m = Y.shape[1]\n",
    "        res = Y * np.log(A) + (1 - Y) * np.log(1 - A)\n",
    "        J = -(1 / m) * np.sum(res)\n",
    "        return J\n",
    "    \n",
    "    def __update_parameters(self, grads):\n",
    "        parameters = self.parameters;\n",
    "        learning_rate = self.learning_rate\n",
    "        L = len(parameters) // 2\n",
    "\n",
    "        for l in range(L):\n",
    "            parameters[\"W\" + str(l+1)] = parameters[\"W\" + str(l+1)] - learning_rate * grads[\"dW\" + str(l+1)]\n",
    "            parameters[\"b\" + str(l+1)] = parameters[\"b\" + str(l+1)] - learning_rate * grads[\"db\" + str(l+1)]\n",
    "            \n",
    "        self.parameters = parameters;\n",
    "        \n",
    "\n",
    "    def fit(self, X_vert, Y_vert, print_cost = True):\n",
    "        \n",
    "        X, Y = X_vert.T, Y_vert.T\n",
    "        \n",
    "        if self.normalize:\n",
    "            X, self.__mean, self.__std = self.__normalize(X)\n",
    "        \n",
    "        costs = []\n",
    "        \n",
    "        self.__initialize_parameters()\n",
    "\n",
    "        for i in range(0, self.num_iter):\n",
    "\n",
    "            AL, caches = self.__multilayer_forward(X)\n",
    "            \n",
    "            cost = self.compute_cost(AL, Y)\n",
    "            \n",
    "            grads = self.__multilayer_backward(AL, Y, caches)\n",
    "            \n",
    "            self.__update_parameters(grads)\n",
    "            \n",
    "            if print_cost and i % 100 == 0:\n",
    "                print (\"Cost after iteration %i: %f\" %(i, cost))\n",
    "            if print_cost and i % 100 == 0:\n",
    "                costs.append(cost)\n",
    "\n",
    "        if print_cost:\n",
    "                plt.plot(costs)\n",
    "                plt.ylabel(\"Cost\")\n",
    "                plt.xlabel(\"Iteration, *1000\")\n",
    "                plt.show()\n",
    "\n",
    "    def predict_proba(self, X_vert):\n",
    "        X = X_vert.T\n",
    "        if self.normalize:\n",
    "            X, _, _ = self.__normalize(X, self.__mean, self.__std)\n",
    "        \n",
    "        probs = self.__multilayer_forward(X)[0]\n",
    "        \n",
    "        return np.column_stack((probs.T, 1 - probs.T))\n",
    "    \n",
    "    def predict(self, X_vert):\n",
    "        positive_probs = self.predict_proba(X_vert)[:, 0]\n",
    "        return (positive_probs >= 0.5).astype(int)   \n"
   ]
  },
  {
   "cell_type": "markdown",
   "metadata": {},
   "source": [
    "Спочатку спробуйте цей клас на одній задачі, а потім на іншій."
   ]
  },
  {
   "cell_type": "code",
   "execution_count": 5,
   "metadata": {},
   "outputs": [],
   "source": [
    "#data_columns = [\"exam1\", \"exam2\"]\n",
    "#target_column = \"submitted\"\n",
    "#df = pd.read_csv(\"sats.csv\")\n",
    "#X, Y = df[data_columns].values, df[target_column].reshape((df.shape[0], 1))\n",
    "#print('Training set: X={}, y={}'.format(X.shape, Y.shape))"
   ]
  },
  {
   "cell_type": "code",
   "execution_count": 6,
   "metadata": {},
   "outputs": [
    {
     "name": "stdout",
     "output_type": "stream",
     "text": [
      "Training set: X=(118, 2), y=(118,)\n"
     ]
    }
   ],
   "source": [
    "data_columns = [\"test1\", \"test2\"]\n",
    "target_column = \"passed\"\n",
    "df = pd.read_csv(\"../Logistic Regression/data/tests.csv\")\n",
    "X, Y = df[data_columns].values, df[target_column]\n",
    "print('Training set: X={}, y={}'.format(X.shape, Y.shape))"
   ]
  },
  {
   "cell_type": "code",
   "execution_count": 7,
   "metadata": {},
   "outputs": [
    {
     "data": {
      "image/png": "[encoded data removed]",
      "text/plain": [
       "<Figure size 432x288 with 1 Axes>"
      ]
     },
     "metadata": {
      "needs_background": "light"
     },
     "output_type": "display_data"
    }
   ],
   "source": [
    "plot_data(X, Y)"
   ]
  },
  {
   "cell_type": "code",
   "execution_count": 8,
   "metadata": {},
   "outputs": [],
   "source": [
    "#cls = DeepNeuralNet(layer_dims = [2,2,1] , learning_rate = 0.5, num_iter = 4000)\n",
    "#cls = DeepNeuralNet(layer_dims = [2,20,1], normalize = True, learning_rate = 0.5, num_iter = 4000)\n",
    "#cls = DeepNeuralNet(layer_dims = [2,20,1], normalize = True, learning_rate = 0.5, num_iter = 10000)\n",
    "cls = DeepNeuralNet(layer_dims = [2,20,1], normalize = True, learning_rate = 0.5, num_iter = 10000)"
   ]
  },
  {
   "cell_type": "code",
   "execution_count": 9,
   "metadata": {},
   "outputs": [],
   "source": [
    "X_train, X_test, Y_train, Y_test = train_test_split(X, Y.values.reshape((Y.shape[0], 1)), test_size = 0.2)"
   ]
  },
  {
   "cell_type": "code",
   "execution_count": 10,
   "metadata": {
    "scrolled": true
   },
   "outputs": [
    {
     "name": "stdout",
     "output_type": "stream",
     "text": [
      "Cost after iteration 0: 0.692555\n",
      "Cost after iteration 100: 0.689439\n",
      "Cost after iteration 200: 0.689258\n",
      "Cost after iteration 300: 0.688856\n",
      "Cost after iteration 400: 0.688322\n",
      "Cost after iteration 500: 0.688029\n",
      "Cost after iteration 600: 0.687943\n",
      "Cost after iteration 700: 0.687911\n",
      "Cost after iteration 800: 0.687887\n",
      "Cost after iteration 900: 0.687864\n",
      "Cost after iteration 1000: 0.687838\n",
      "Cost after iteration 1100: 0.687807\n",
      "Cost after iteration 1200: 0.687767\n",
      "Cost after iteration 1300: 0.687715\n",
      "Cost after iteration 1400: 0.687637\n",
      "Cost after iteration 1500: 0.687511\n",
      "Cost after iteration 1600: 0.687274\n",
      "Cost after iteration 1700: 0.686736\n",
      "Cost after iteration 1800: 0.685301\n",
      "Cost after iteration 1900: 0.681505\n",
      "Cost after iteration 2000: 0.673364\n",
      "Cost after iteration 2100: 0.658224\n",
      "Cost after iteration 2200: 0.633939\n",
      "Cost after iteration 2300: 0.610449\n",
      "Cost after iteration 2400: 0.594796\n",
      "Cost after iteration 2500: 0.585506\n",
      "Cost after iteration 2600: 0.579528\n",
      "Cost after iteration 2700: 0.572902\n",
      "Cost after iteration 2800: 0.556930\n",
      "Cost after iteration 2900: 0.530082\n",
      "Cost after iteration 3000: 0.498555\n",
      "Cost after iteration 3100: 0.470351\n",
      "Cost after iteration 3200: 0.448422\n",
      "Cost after iteration 3300: 0.431208\n",
      "Cost after iteration 3400: 0.417119\n",
      "Cost after iteration 3500: 0.405724\n",
      "Cost after iteration 3600: 0.396279\n",
      "Cost after iteration 3700: 0.388245\n",
      "Cost after iteration 3800: 0.381469\n",
      "Cost after iteration 3900: 0.375957\n",
      "Cost after iteration 4000: 0.371470\n",
      "Cost after iteration 4100: 0.367606\n",
      "Cost after iteration 4200: 0.363988\n",
      "Cost after iteration 4300: 0.360523\n",
      "Cost after iteration 4400: 0.357517\n",
      "Cost after iteration 4500: 0.355025\n",
      "Cost after iteration 4600: 0.352888\n",
      "Cost after iteration 4700: 0.350908\n",
      "Cost after iteration 4800: 0.348902\n",
      "Cost after iteration 4900: 0.346779\n",
      "Cost after iteration 5000: 0.344540\n",
      "Cost after iteration 5100: 0.342239\n",
      "Cost after iteration 5200: 0.339943\n",
      "Cost after iteration 5300: 0.337707\n",
      "Cost after iteration 5400: 0.335560\n",
      "Cost after iteration 5500: 0.333515\n",
      "Cost after iteration 5600: 0.331571\n",
      "Cost after iteration 5700: 0.329723\n",
      "Cost after iteration 5800: 0.327964\n",
      "Cost after iteration 5900: 0.326285\n",
      "Cost after iteration 6000: 0.324679\n",
      "Cost after iteration 6100: 0.323138\n",
      "Cost after iteration 6200: 0.321657\n",
      "Cost after iteration 6300: 0.320230\n",
      "Cost after iteration 6400: 0.318855\n",
      "Cost after iteration 6500: 0.317528\n",
      "Cost after iteration 6600: 0.316248\n",
      "Cost after iteration 6700: 0.315014\n",
      "Cost after iteration 6800: 0.313824\n",
      "Cost after iteration 6900: 0.312678\n",
      "Cost after iteration 7000: 0.311572\n",
      "Cost after iteration 7100: 0.310505\n",
      "Cost after iteration 7200: 0.309475\n",
      "Cost after iteration 7300: 0.308482\n",
      "Cost after iteration 7400: 0.307522\n",
      "Cost after iteration 7500: 0.306597\n",
      "Cost after iteration 7600: 0.305703\n",
      "Cost after iteration 7700: 0.304841\n",
      "Cost after iteration 7800: 0.304007\n",
      "Cost after iteration 7900: 0.303201\n",
      "Cost after iteration 8000: 0.302420\n",
      "Cost after iteration 8100: 0.301662\n",
      "Cost after iteration 8200: 0.300924\n",
      "Cost after iteration 8300: 0.300205\n",
      "Cost after iteration 8400: 0.299503\n",
      "Cost after iteration 8500: 0.298816\n",
      "Cost after iteration 8600: 0.298143\n",
      "Cost after iteration 8700: 0.297483\n",
      "Cost after iteration 8800: 0.296834\n",
      "Cost after iteration 8900: 0.296196\n",
      "Cost after iteration 9000: 0.295567\n",
      "Cost after iteration 9100: 0.294946\n",
      "Cost after iteration 9200: 0.294333\n",
      "Cost after iteration 9300: 0.293726\n",
      "Cost after iteration 9400: 0.293124\n",
      "Cost after iteration 9500: 0.292525\n",
      "Cost after iteration 9600: 0.291925\n",
      "Cost after iteration 9700: 0.291323\n",
      "Cost after iteration 9800: 0.290712\n",
      "Cost after iteration 9900: 0.290085\n"
     ]
    },
    {
     "data": {
      "image/png": "[encoded data removed]",
      "text/plain": [
       "<Figure size 432x288 with 1 Axes>"
      ]
     },
     "metadata": {
      "needs_background": "light"
     },
     "output_type": "display_data"
    }
   ],
   "source": [
    "cls.fit(X_train, Y_train)"
   ]
  },
  {
   "cell_type": "code",
   "execution_count": 11,
   "metadata": {
    "scrolled": true
   },
   "outputs": [
    {
     "name": "stdout",
     "output_type": "stream",
     "text": [
      "{'W1': array([[-1.33786207, -0.55985374],\n",
      "       [ 2.57010431, -2.11428064],\n",
      "       [ 0.23380559, -0.94575257],\n",
      "       [-0.02953896,  0.12542019],\n",
      "       [ 0.06616316,  0.25751961],\n",
      "       [ 0.09516514, -1.58354359],\n",
      "       [ 0.02162132,  0.17485857],\n",
      "       [-0.26120614, -0.05789872],\n",
      "       [-1.52705775, -1.3189861 ],\n",
      "       [ 0.05061498,  0.21839094],\n",
      "       [ 0.06486443,  0.29894268],\n",
      "       [-1.97935553,  0.22354011],\n",
      "       [-0.69273854,  0.0983785 ],\n",
      "       [ 0.01176646,  0.15955654],\n",
      "       [-0.21208874, -0.03652153],\n",
      "       [ 0.04983114,  0.20762772],\n",
      "       [-6.50294458, -1.46050016],\n",
      "       [-0.2466921 , -1.24084821],\n",
      "       [ 0.50176009,  3.14908047],\n",
      "       [ 0.38070995, -1.00020736]]), 'b1': array([[-3.56893969],\n",
      "       [-5.26264656],\n",
      "       [-3.05070986],\n",
      "       [ 0.01217031],\n",
      "       [ 0.12871411],\n",
      "       [-0.82262829],\n",
      "       [ 0.14778625],\n",
      "       [-0.2706138 ],\n",
      "       [ 3.07281828],\n",
      "       [ 0.14082328],\n",
      "       [ 0.18761834],\n",
      "       [-6.1311348 ],\n",
      "       [-0.92833968],\n",
      "       [ 0.09549252],\n",
      "       [-0.22853007],\n",
      "       [ 0.09884453],\n",
      "       [-5.79757037],\n",
      "       [-1.75632397],\n",
      "       [-6.09364009],\n",
      "       [-3.5664757 ]]), 'W2': array([[-3.77957843, -6.86941752, -3.27233515,  0.39889185,  0.6432639 ,\n",
      "        -1.32150779,  0.49957436,  0.12580506, 11.10940933,  0.59481295,\n",
      "         0.69331708, -6.94701924, -0.73367977,  0.47141005,  0.18374747,\n",
      "         0.58203744, -8.99439975, -2.08196866, -8.41308692, -3.74021494]]), 'b2': array([[1.21634626]])}\n"
     ]
    }
   ],
   "source": [
    "print(cls.parameters)"
   ]
  },
  {
   "cell_type": "code",
   "execution_count": 12,
   "metadata": {
    "scrolled": true
   },
   "outputs": [
    {
     "data": {
      "text/plain": [
       "array([[4.37993642e-02, 9.56200636e-01],\n",
       "       [6.89278884e-02, 9.31072112e-01],\n",
       "       [9.40162058e-01, 5.98379423e-02],\n",
       "       [7.69738208e-01, 2.30261792e-01],\n",
       "       [9.80033507e-02, 9.01996649e-01],\n",
       "       [4.95184600e-01, 5.04815400e-01],\n",
       "       [9.98341768e-01, 1.65823151e-03],\n",
       "       [7.67440257e-01, 2.32559743e-01],\n",
       "       [3.35351112e-02, 9.66464889e-01],\n",
       "       [5.65463858e-02, 9.43453614e-01],\n",
       "       [6.13412923e-01, 3.86587077e-01],\n",
       "       [9.99940158e-01, 5.98424171e-05],\n",
       "       [9.99562951e-01, 4.37048815e-04],\n",
       "       [2.43885758e-02, 9.75611424e-01],\n",
       "       [9.99968278e-01, 3.17221589e-05],\n",
       "       [6.38694285e-01, 3.61305715e-01],\n",
       "       [7.42890276e-01, 2.57109724e-01],\n",
       "       [4.29449422e-01, 5.70550578e-01],\n",
       "       [7.54728575e-01, 2.45271425e-01],\n",
       "       [3.55905943e-02, 9.64409406e-01],\n",
       "       [9.61237934e-01, 3.87620662e-02],\n",
       "       [1.04506084e-01, 8.95493916e-01],\n",
       "       [3.34762109e-01, 6.65237891e-01],\n",
       "       [6.54801218e-03, 9.93451988e-01],\n",
       "       [9.97095593e-01, 2.90440714e-03],\n",
       "       [9.39947712e-01, 6.00522876e-02],\n",
       "       [1.13380227e-02, 9.88661977e-01],\n",
       "       [1.24685393e-01, 8.75314607e-01],\n",
       "       [3.18025218e-01, 6.81974782e-01],\n",
       "       [9.78064551e-01, 2.19354488e-02],\n",
       "       [5.99566382e-01, 4.00433618e-01],\n",
       "       [1.25732607e-02, 9.87426739e-01],\n",
       "       [9.10228215e-01, 8.97717854e-02],\n",
       "       [3.06098243e-01, 6.93901757e-01],\n",
       "       [8.27365326e-01, 1.72634674e-01],\n",
       "       [2.91731700e-02, 9.70826830e-01],\n",
       "       [9.71426297e-01, 2.85737027e-02],\n",
       "       [9.99995097e-01, 4.90315389e-06],\n",
       "       [9.65461900e-01, 3.45381003e-02],\n",
       "       [1.95032858e-01, 8.04967142e-01],\n",
       "       [9.99960842e-01, 3.91583825e-05],\n",
       "       [6.27911286e-01, 3.72088714e-01],\n",
       "       [9.97353064e-01, 2.64693561e-03],\n",
       "       [6.54417275e-01, 3.45582725e-01],\n",
       "       [2.30186450e-01, 7.69813550e-01],\n",
       "       [4.00548382e-01, 5.99451618e-01],\n",
       "       [1.52780924e-01, 8.47219076e-01],\n",
       "       [6.17000718e-01, 3.82999282e-01],\n",
       "       [4.02326810e-02, 9.59767319e-01],\n",
       "       [9.72295109e-01, 2.77048915e-02],\n",
       "       [1.62407198e-01, 8.37592802e-01],\n",
       "       [7.71263353e-01, 2.28736647e-01],\n",
       "       [2.60317983e-03, 9.97396820e-01],\n",
       "       [9.96720552e-01, 3.27944845e-03],\n",
       "       [7.18503772e-02, 9.28149623e-01],\n",
       "       [9.96238088e-01, 3.76191188e-03],\n",
       "       [6.55985769e-01, 3.44014231e-01],\n",
       "       [9.96399932e-01, 3.60006830e-03],\n",
       "       [7.51005747e-01, 2.48994253e-01],\n",
       "       [9.12223830e-01, 8.77761699e-02],\n",
       "       [3.54661558e-01, 6.45338442e-01],\n",
       "       [2.22641562e-02, 9.77735844e-01],\n",
       "       [9.60226816e-02, 9.03977318e-01],\n",
       "       [6.89437373e-01, 3.10562627e-01],\n",
       "       [2.00097922e-01, 7.99902078e-01],\n",
       "       [4.29953314e-01, 5.70046686e-01],\n",
       "       [1.08450482e-01, 8.91549518e-01],\n",
       "       [3.44770696e-01, 6.55229304e-01],\n",
       "       [3.83337142e-02, 9.61666286e-01],\n",
       "       [1.53874211e-02, 9.84612579e-01],\n",
       "       [6.10172407e-02, 9.38982759e-01],\n",
       "       [7.88365191e-01, 2.11634809e-01],\n",
       "       [9.23229736e-01, 7.67702642e-02],\n",
       "       [9.99975386e-01, 2.46135396e-05],\n",
       "       [6.11488794e-01, 3.88511206e-01],\n",
       "       [7.18805836e-03, 9.92811942e-01],\n",
       "       [9.97732916e-01, 2.26708425e-03],\n",
       "       [4.80040148e-01, 5.19959852e-01],\n",
       "       [9.95971732e-01, 4.02826794e-03],\n",
       "       [6.42933183e-01, 3.57066817e-01],\n",
       "       [8.81074957e-01, 1.18925043e-01],\n",
       "       [1.55240895e-01, 8.44759105e-01],\n",
       "       [8.35194462e-01, 1.64805538e-01],\n",
       "       [9.21085586e-01, 7.89144143e-02],\n",
       "       [9.98270534e-01, 1.72946559e-03],\n",
       "       [5.74416996e-02, 9.42558300e-01],\n",
       "       [8.83785919e-02, 9.11621408e-01],\n",
       "       [8.47319429e-01, 1.52680571e-01],\n",
       "       [4.62770603e-01, 5.37229397e-01],\n",
       "       [9.11267175e-01, 8.87328254e-02],\n",
       "       [1.96845162e-01, 8.03154838e-01],\n",
       "       [7.95115368e-01, 2.04884632e-01],\n",
       "       [8.91788429e-01, 1.08211571e-01],\n",
       "       [9.99740959e-01, 2.59040574e-04]])"
      ]
     },
     "execution_count": 12,
     "metadata": {},
     "output_type": "execute_result"
    }
   ],
   "source": [
    "Y_prob = cls.predict_proba(X_train)\n",
    "Y_prob"
   ]
  },
  {
   "cell_type": "code",
   "execution_count": 13,
   "metadata": {},
   "outputs": [],
   "source": [
    "Y_train_hat = cls.predict(X_train)\n",
    "Y_test_hat = cls.predict(X_test)"
   ]
  },
  {
   "cell_type": "code",
   "execution_count": 14,
   "metadata": {},
   "outputs": [
    {
     "data": {
      "text/plain": [
       "0.8723404255319149"
      ]
     },
     "execution_count": 14,
     "metadata": {},
     "output_type": "execute_result"
    }
   ],
   "source": [
    "accuracy_score(Y_train, Y_train_hat)"
   ]
  },
  {
   "cell_type": "code",
   "execution_count": 15,
   "metadata": {},
   "outputs": [
    {
     "data": {
      "text/plain": [
       "0.8333333333333334"
      ]
     },
     "execution_count": 15,
     "metadata": {},
     "output_type": "execute_result"
    }
   ],
   "source": [
    "accuracy_score(Y_test, Y_test_hat)"
   ]
  },
  {
   "cell_type": "code",
   "execution_count": 16,
   "metadata": {},
   "outputs": [
    {
     "data": {
      "image/png": "[encoded data removed]",
      "text/plain": [
       "<Figure size 432x288 with 1 Axes>"
      ]
     },
     "metadata": {
      "needs_background": "light"
     },
     "output_type": "display_data"
    }
   ],
   "source": [
    "plot_data(X, Y)\n",
    "plot_surface(cls, X[:, 0], X[:, 1])"
   ]
  },
  {
   "cell_type": "markdown",
   "metadata": {},
   "source": [
    "Зверніть увагу на границю прийняття рішення. Модель старається побудувати складну криву, що може свідчити про її перетренування. Порівняйте отримані результати з класом з sklearn. Спробуйте додати нові шари для нашого класу та порівняти результати тоді. Поекспериментуйте з гіперпараметрами для обох класів."
   ]
  },
  {
   "cell_type": "code",
   "execution_count": 21,
   "metadata": {},
   "outputs": [],
   "source": [
    "from sklearn.neural_network import MLPClassifier\n",
    "clf = MLPClassifier(hidden_layer_sizes = (20,), max_iter = 10000, activation = 'relu', solver = 'sgd', learning_rate_init = 0.01, learning_rate = 'constant')"
   ]
  },
  {
   "cell_type": "code",
   "execution_count": 22,
   "metadata": {},
   "outputs": [
    {
     "data": {
      "text/plain": [
       "MLPClassifier(activation='relu', alpha=0.0001, batch_size='auto', beta_1=0.9,\n",
       "              beta_2=0.999, early_stopping=False, epsilon=1e-08,\n",
       "              hidden_layer_sizes=(20,), learning_rate='constant',\n",
       "              learning_rate_init=0.01, max_iter=10000, momentum=0.9,\n",
       "              n_iter_no_change=10, nesterovs_momentum=True, power_t=0.5,\n",
       "              random_state=None, shuffle=True, solver='sgd', tol=0.0001,\n",
       "              validation_fraction=0.1, verbose=False, warm_start=False)"
      ]
     },
     "execution_count": 22,
     "metadata": {},
     "output_type": "execute_result"
    }
   ],
   "source": [
    "clf.fit(X, Y)"
   ]
  },
  {
   "cell_type": "code",
   "execution_count": 23,
   "metadata": {},
   "outputs": [
    {
     "data": {
      "image/png": "[encoded data removed]",
      "text/plain": [
       "<Figure size 432x288 with 1 Axes>"
      ]
     },
     "metadata": {
      "needs_background": "light"
     },
     "output_type": "display_data"
    }
   ],
   "source": [
    "plot_data(X, Y)\n",
    "plot_surface(clf, X[:, 0], X[:, 1])"
   ]
  },
  {
   "cell_type": "code",
   "execution_count": 24,
   "metadata": {},
   "outputs": [
    {
     "data": {
      "text/plain": [
       "0.847457627118644"
      ]
     },
     "execution_count": 24,
     "metadata": {},
     "output_type": "execute_result"
    }
   ],
   "source": [
    "accuracy_score(Y, clf.predict(X))"
   ]
  },
  {
   "cell_type": "code",
   "execution_count": null,
   "metadata": {},
   "outputs": [],
   "source": []
  }
 ],
 "metadata": {
  "anaconda-cloud": {},
  "kernelspec": {
   "display_name": "Python 3",
   "language": "python",
   "name": "python3"
  },
  "language_info": {
   "codemirror_mode": {
    "name": "ipython",
    "version": 3
   },
   "file_extension": ".py",
   "mimetype": "text/x-python",
   "name": "python",
   "nbconvert_exporter": "python",
   "pygments_lexer": "ipython3",
   "version": "3.7.4"
  }
 },
 "nbformat": 4,
 "nbformat_minor": 1
}
