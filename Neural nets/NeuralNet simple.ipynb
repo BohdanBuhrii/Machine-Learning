{
 "cells": [
  {
   "cell_type": "markdown",
   "metadata": {},
   "source": [
    "В цій практичній роботі ми спробуємо реалізувати нейронну мережу з двох шарів (прихований і вихідний). Запропонований підхід стане заготовкою для реалізації наступних оптимізацій: MBGD, ADAM та регуляризації. \n",
    "\n",
    "Сьогодні ж вам пропонується додати до цього класу підтримку довільної кількості шарів та нейронів в них (наприклад, передавати їх параметром в конструктор, як це робиться в MLPClassifier за допомогою hidden_layer_sizes). Також потрібно передбачити можливість ранньої зупинки ітераційного процесу, якщо значення штрафної функції не покращуватиметься протягом певної кількості ітерацій. Наприклад, якщо протягом $k$ ітерацій штрафна функція за модулем не стане меншою, ніж на поточному кроці."
   ]
  },
  {
   "cell_type": "code",
   "execution_count": 1,
   "metadata": {},
   "outputs": [],
   "source": [
    "import numpy as np\n",
    "import pandas as pd\n",
    "from sklearn.model_selection import train_test_split\n",
    "from mpl_toolkits.mplot3d import Axes3D\n",
    "import matplotlib.pyplot as plt\n",
    "\n",
    "from matplotlib.colors import ListedColormap\n",
    "cm_bright = ListedColormap(['#FF0000', '#0000FF'])\n",
    "cm_bright_test = ListedColormap(['#FFA833','#33E0FF']) # '5EFF33', '#FFF933'\n",
    "%matplotlib inline\n",
    "from sklearn.metrics import accuracy_score\n",
    "\n",
    "import sklearn.linear_model\n",
    "\n",
    "np.random.seed(1)"
   ]
  },
  {
   "cell_type": "code",
   "execution_count": 2,
   "metadata": {},
   "outputs": [],
   "source": [
    "def plot_surface(cls, x_1, x_2, ax=None, threshold=0.5, contourf=False):\n",
    "    xx1, xx2 = np.meshgrid(np.linspace(x_1.min(), x_1.max(), 100), \n",
    "                           np.linspace(x_2.min(), x_2.max(), 100))\n",
    "\n",
    "    X_pred = np.c_[xx1.ravel(), xx2.ravel()]\n",
    "    pred = cls.predict_proba(X_pred)[:, 0]\n",
    "    Z = pred.reshape((100, 100))\n",
    "    if ax is None:\n",
    "        ax = plt.gca()\n",
    "    ax.contour(xx1, xx2, Z, levels=[threshold], colors='black')\n",
    "    ax.set_xlim((x_1.min(), x_1.max()))\n",
    "    ax.set_ylim((x_2.min(), x_2.max()))"
   ]
  },
  {
   "cell_type": "code",
   "execution_count": 3,
   "metadata": {},
   "outputs": [],
   "source": [
    "def plot_data(X, y, color_map=cm_bright):\n",
    "    ax = plt.gca()\n",
    "    ax.scatter(X[:,0], X[:,1], c=(y == 1), cmap=color_map)"
   ]
  },
  {
   "cell_type": "code",
   "execution_count": 4,
   "metadata": {},
   "outputs": [],
   "source": [
    "class DeepNeuralNet:\n",
    "    \"\"\"\n",
    "    NN for binary classification\n",
    "    Attributes:\n",
    "    ...\n",
    "    \"\"\"\n",
    "    \n",
    "    def __init__(self, layer_dims, normalize = True, learning_rate = 0.01, num_iter = 30000, precision = None):\n",
    "        self.learning_rate = learning_rate\n",
    "        self.num_iter = num_iter\n",
    "        self.normalize = normalize\n",
    "        self.layer_dims = layer_dims\n",
    "        self.precision = precision\n",
    "    \n",
    "    def __normalize(self, X, mean = None, std = None):\n",
    "        \"\"\"\n",
    "        Зверніть увагу, що нормалізація вхідних даних є дуже важливою для швидкодії нейронних мереж.\n",
    "        \"\"\"\n",
    "        n = X.shape[0]\n",
    "        m = mean\n",
    "        if m is None:\n",
    "            m = np.mean(X, axis=1).reshape((n, 1))\n",
    "        s = std\n",
    "        if s is None:\n",
    "            s = np.std(X, axis=1).reshape((n, 1))\n",
    "        X_new = (X - m) / s**2\n",
    "        return X_new, m, s\n",
    "\n",
    "    def __sigmoid(self, Z):\n",
    "        \"\"\"\n",
    "        В наступних практичних потрібно буде додати підтримку й інших активаційних функцій - це один з гіперпараметрів. \n",
    "        Їх можна вибирати для всіх шарів одночасно або мати різні активаційні функції на кожному з них.\n",
    "        \"\"\"\n",
    "        return 1 / (1 + np.exp(-Z))\n",
    "    \n",
    "    \n",
    "    \n",
    "    def __initialize_parameters(self):\n",
    "        layer_dims = self.layer_dims\n",
    "        parameters = {}\n",
    "        L = len(layer_dims)\n",
    "\n",
    "        for l in range(1, L):\n",
    "            parameters['W' + str(l)] = np.random.randn(layer_dims[l], layer_dims[l-1]) * 0.01\n",
    "            parameters['b' + str(l)] = np.zeros((layer_dims[l], 1))\n",
    "        \n",
    "        self.parameters = parameters\n",
    "\n",
    "    def __forward_linear_activation(self, A_prev, W, b):\n",
    "        \n",
    "        # linear forward\n",
    "        Z = np.dot(W, A_prev) + b\n",
    "        linear_cache = (A_prev, W, b)\n",
    "    \n",
    "        # activation forward\n",
    "        A = self.__sigmoid(Z)\n",
    "        activation_cache = Z\n",
    "        \n",
    "        cache = (linear_cache, activation_cache)\n",
    "\n",
    "        return A, cache\n",
    "    \n",
    "    def __multilayer_forward(self, X):       \n",
    "        parameters = self.parameters\n",
    "        caches = []\n",
    "        A = X\n",
    "        L = len(parameters) // 2\n",
    "\n",
    "        for l in range(1, L):\n",
    "            A_prev = A \n",
    "            A, cache = self.__forward_linear_activation(A_prev, parameters[\"W\"+str(l)], parameters[\"b\"+str(l)])\n",
    "            caches.append(cache)\n",
    "            \n",
    "        AL, cache = self.__forward_linear_activation(A, parameters[\"W\"+str(L)], parameters[\"b\"+str(L)])\n",
    "        caches.append(cache)\n",
    "        \n",
    "        assert(AL.shape == (1,X.shape[1]))\n",
    "\n",
    "        return AL, caches\n",
    "\n",
    "    def __backward_linear_activation(self, dA, cache):\n",
    "        \n",
    "        linear_cache, activation_cache = cache\n",
    "        \n",
    "        # activation backward\n",
    "        Z = activation_cache\n",
    "        s = 1/(1+np.exp(-Z))\n",
    "        dZ = dA * s * (1-s)\n",
    "        \n",
    "        # linear backward\n",
    "        A_prev, W, b = linear_cache\n",
    "        m = A_prev.shape[1]\n",
    "        dW = 1 / m * np.dot(dZ, A_prev.T)\n",
    "        db = 1 / m * np.sum(dZ, axis=1, keepdims=True)\n",
    "        dA_prev = np.dot(W.T, dZ)\n",
    "        \n",
    "        return dA_prev, dW, db\n",
    "\n",
    "\n",
    "    def __multilayer_backward(self, X, Y, caches):\n",
    "        grads = {}\n",
    "        AL = X\n",
    "        L = len(caches)\n",
    "        m = AL.shape[1]\n",
    "        Y = Y.reshape(AL.shape)\n",
    "\n",
    "        dAL = -(np.divide(Y, AL) - np.divide(1 - Y, 1 - AL))\n",
    "        \n",
    "        current_cache = caches[L-1]\n",
    "        grads[\"dA\" + str(L-1)], grads[\"dW\" + str(L)], grads[\"db\" + str(L)] = self.__backward_linear_activation(dAL, current_cache)\n",
    "        \n",
    "        for l in reversed(range(L-1)):\n",
    "            current_cache = caches[l]\n",
    "            dA_prev_temp, dW_temp, db_temp = self.__backward_linear_activation(grads[\"dA\" + str(l + 1)], current_cache)\n",
    "            grads[\"dA\" + str(l)] = dA_prev_temp\n",
    "            grads[\"dW\" + str(l + 1)] = dW_temp\n",
    "            grads[\"db\" + str(l + 1)] = db_temp\n",
    "            \n",
    "        return grads\n",
    "    \n",
    "    def compute_cost(self, A, Y):\n",
    "        m = Y.shape[1]\n",
    "        res = Y * np.log(A) + (1 - Y) * np.log(1 - A)\n",
    "        J = -(1 / m) * np.sum(res)\n",
    "        return J\n",
    "    \n",
    "    def __update_parameters(self, grads):\n",
    "        parameters = self.parameters;\n",
    "        learning_rate = self.learning_rate\n",
    "        L = len(parameters) // 2\n",
    "\n",
    "        for l in range(L):\n",
    "            parameters[\"W\" + str(l+1)] = parameters[\"W\" + str(l+1)] - learning_rate * grads[\"dW\" + str(l+1)]\n",
    "            parameters[\"b\" + str(l+1)] = parameters[\"b\" + str(l+1)] - learning_rate * grads[\"db\" + str(l+1)]\n",
    "            \n",
    "        self.parameters = parameters;\n",
    "        \n",
    "\n",
    "    def fit(self, X_vert, Y_vert, print_cost = True):\n",
    "        \n",
    "        X, Y = X_vert.T, Y_vert.T\n",
    "        \n",
    "        if self.normalize:\n",
    "            X, self.__mean, self.__std = self.__normalize(X)\n",
    "        \n",
    "        costs = []\n",
    "        \n",
    "        self.__initialize_parameters()\n",
    "\n",
    "        for i in range(0, self.num_iter):\n",
    "\n",
    "            AL, caches = self.__multilayer_forward(X)\n",
    "            \n",
    "            cost = self.compute_cost(AL, Y)\n",
    "            \n",
    "            grads = self.__multilayer_backward(AL, Y, caches)\n",
    "            \n",
    "            self.__update_parameters(grads)\n",
    "            \n",
    "            if print_cost and i % 100 == 0:\n",
    "                print (\"Cost after iteration %i: %f\" %(i, cost))\n",
    "            if print_cost and i % 100 == 0:\n",
    "                costs.append(cost)\n",
    "                \n",
    "                if len(costs) > 1 and self.precision != None and np.abs(costs[-2] - costs[-1]) < self.precision:\n",
    "                    print('Stopping gradient descent ...')\n",
    "                    break\n",
    "\n",
    "        if print_cost:\n",
    "                plt.plot(costs)\n",
    "                plt.ylabel(\"Cost\")\n",
    "                plt.xlabel(\"Iteration, *100\")\n",
    "                plt.show()\n",
    "\n",
    "    def predict_proba(self, X_vert):\n",
    "        X = X_vert.T\n",
    "        if self.normalize:\n",
    "            X, _, _ = self.__normalize(X, self.__mean, self.__std)\n",
    "        \n",
    "        probs = self.__multilayer_forward(X)[0]\n",
    "        \n",
    "        return np.column_stack((probs.T, 1 - probs.T))\n",
    "    \n",
    "    def predict(self, X_vert):\n",
    "        positive_probs = self.predict_proba(X_vert)[:, 0]\n",
    "        return (positive_probs >= 0.5).astype(int)   \n"
   ]
  },
  {
   "cell_type": "markdown",
   "metadata": {},
   "source": [
    "Спочатку спробуйте цей клас на одній задачі, а потім на іншій."
   ]
  },
  {
   "cell_type": "code",
   "execution_count": 5,
   "metadata": {},
   "outputs": [],
   "source": [
    "#data_columns = [\"exam1\", \"exam2\"]\n",
    "#target_column = \"submitted\"\n",
    "#df = pd.read_csv(\"sats.csv\")\n",
    "#X, Y = df[data_columns].values, df[target_column].reshape((df.shape[0], 1))\n",
    "#print('Training set: X={}, y={}'.format(X.shape, Y.shape))"
   ]
  },
  {
   "cell_type": "code",
   "execution_count": 6,
   "metadata": {},
   "outputs": [
    {
     "name": "stdout",
     "output_type": "stream",
     "text": [
      "Training set: X=(118, 2), y=(118,)\n"
     ]
    }
   ],
   "source": [
    "data_columns = [\"test1\", \"test2\"]\n",
    "target_column = \"passed\"\n",
    "df = pd.read_csv(\"../Logistic Regression/data/tests.csv\")\n",
    "X, Y = df[data_columns].values, df[target_column]\n",
    "print('Training set: X={}, y={}'.format(X.shape, Y.shape))"
   ]
  },
  {
   "cell_type": "code",
   "execution_count": 7,
   "metadata": {},
   "outputs": [
    {
     "data": {
      "image/png": "[encoded data removed]",
      "text/plain": [
       "<Figure size 432x288 with 1 Axes>"
      ]
     },
     "metadata": {
      "needs_background": "light"
     },
     "output_type": "display_data"
    }
   ],
   "source": [
    "plot_data(X, Y)"
   ]
  },
  {
   "cell_type": "code",
   "execution_count": 8,
   "metadata": {},
   "outputs": [],
   "source": [
    "#cls = DeepNeuralNet(layer_dims = [2,2,1] , learning_rate = 0.5, num_iter = 4000)\n",
    "#cls = DeepNeuralNet(layer_dims = [2,20,1], normalize = True, learning_rate = 0.5, num_iter = 4000)\n",
    "#cls = DeepNeuralNet(layer_dims = [2,20,1], normalize = True, learning_rate = 0.5, num_iter = 10000)\n",
    "cls = DeepNeuralNet(layer_dims = [2,20,6,1], normalize = True, learning_rate = 0.5, num_iter = 14000) # easy overfit"
   ]
  },
  {
   "cell_type": "code",
   "execution_count": 9,
   "metadata": {},
   "outputs": [],
   "source": [
    "X_train, X_test, Y_train, Y_test = train_test_split(X, Y.values.reshape((Y.shape[0], 1)), test_size = 0.2, random_state=10)"
   ]
  },
  {
   "cell_type": "code",
   "execution_count": 10,
   "metadata": {
    "scrolled": true
   },
   "outputs": [
    {
     "name": "stdout",
     "output_type": "stream",
     "text": [
      "Cost after iteration 0: 0.692886\n",
      "Cost after iteration 100: 0.689521\n",
      "Cost after iteration 200: 0.689521\n",
      "Cost after iteration 300: 0.689521\n",
      "Cost after iteration 400: 0.689521\n",
      "Cost after iteration 500: 0.689521\n",
      "Cost after iteration 600: 0.689521\n",
      "Cost after iteration 700: 0.689520\n",
      "Cost after iteration 800: 0.689520\n",
      "Cost after iteration 900: 0.689520\n",
      "Cost after iteration 1000: 0.689520\n",
      "Cost after iteration 1100: 0.689520\n",
      "Cost after iteration 1200: 0.689520\n",
      "Cost after iteration 1300: 0.689520\n",
      "Cost after iteration 1400: 0.689520\n",
      "Cost after iteration 1500: 0.689520\n",
      "Cost after iteration 1600: 0.689519\n",
      "Cost after iteration 1700: 0.689519\n",
      "Cost after iteration 1800: 0.689519\n",
      "Cost after iteration 1900: 0.689519\n",
      "Cost after iteration 2000: 0.689519\n",
      "Cost after iteration 2100: 0.689518\n",
      "Cost after iteration 2200: 0.689518\n",
      "Cost after iteration 2300: 0.689518\n",
      "Cost after iteration 2400: 0.689517\n",
      "Cost after iteration 2500: 0.689517\n",
      "Cost after iteration 2600: 0.689517\n",
      "Cost after iteration 2700: 0.689516\n",
      "Cost after iteration 2800: 0.689516\n",
      "Cost after iteration 2900: 0.689515\n",
      "Cost after iteration 3000: 0.689515\n",
      "Cost after iteration 3100: 0.689514\n",
      "Cost after iteration 3200: 0.689513\n",
      "Cost after iteration 3300: 0.689513\n",
      "Cost after iteration 3400: 0.689512\n",
      "Cost after iteration 3500: 0.689511\n",
      "Cost after iteration 3600: 0.689510\n",
      "Cost after iteration 3700: 0.689508\n",
      "Cost after iteration 3800: 0.689507\n",
      "Cost after iteration 3900: 0.689505\n",
      "Cost after iteration 4000: 0.689503\n",
      "Cost after iteration 4100: 0.689501\n",
      "Cost after iteration 4200: 0.689498\n",
      "Cost after iteration 4300: 0.689494\n",
      "Cost after iteration 4400: 0.689491\n",
      "Cost after iteration 4500: 0.689486\n",
      "Cost after iteration 4600: 0.689480\n",
      "Cost after iteration 4700: 0.689473\n",
      "Cost after iteration 4800: 0.689465\n",
      "Cost after iteration 4900: 0.689454\n",
      "Cost after iteration 5000: 0.689441\n",
      "Cost after iteration 5100: 0.689424\n",
      "Cost after iteration 5200: 0.689402\n",
      "Cost after iteration 5300: 0.689373\n",
      "Cost after iteration 5400: 0.689334\n",
      "Cost after iteration 5500: 0.689280\n",
      "Cost after iteration 5600: 0.689203\n",
      "Cost after iteration 5700: 0.689093\n",
      "Cost after iteration 5800: 0.688927\n",
      "Cost after iteration 5900: 0.688670\n",
      "Cost after iteration 6000: 0.688257\n",
      "Cost after iteration 6100: 0.687567\n",
      "Cost after iteration 6200: 0.686389\n",
      "Cost after iteration 6300: 0.684411\n",
      "Cost after iteration 6400: 0.681391\n",
      "Cost after iteration 6500: 0.677534\n",
      "Cost after iteration 6600: 0.673088\n",
      "Cost after iteration 6700: 0.667808\n",
      "Cost after iteration 6800: 0.661707\n",
      "Cost after iteration 6900: 0.655358\n",
      "Cost after iteration 7000: 0.649480\n",
      "Cost after iteration 7100: 0.644573\n",
      "Cost after iteration 7200: 0.640766\n",
      "Cost after iteration 7300: 0.637877\n",
      "Cost after iteration 7400: 0.635599\n",
      "Cost after iteration 7500: 0.633583\n",
      "Cost after iteration 7600: 0.631437\n",
      "Cost after iteration 7700: 0.628736\n",
      "Cost after iteration 7800: 0.625190\n",
      "Cost after iteration 7900: 0.621035\n",
      "Cost after iteration 8000: 0.617037\n",
      "Cost after iteration 8100: 0.613704\n",
      "Cost after iteration 8200: 0.611051\n",
      "Cost after iteration 8300: 0.608933\n",
      "Cost after iteration 8400: 0.607192\n",
      "Cost after iteration 8500: 0.605695\n",
      "Cost after iteration 8600: 0.604349\n",
      "Cost after iteration 8700: 0.603094\n",
      "Cost after iteration 8800: 0.601891\n",
      "Cost after iteration 8900: 0.600709\n",
      "Cost after iteration 9000: 0.599525\n",
      "Cost after iteration 9100: 0.598309\n",
      "Cost after iteration 9200: 0.597010\n",
      "Cost after iteration 9300: 0.595524\n",
      "Cost after iteration 9400: 0.593600\n",
      "Cost after iteration 9500: 0.590647\n",
      "Cost after iteration 9600: 0.585480\n",
      "Cost after iteration 9700: 0.575815\n",
      "Cost after iteration 9800: 0.558283\n",
      "Cost after iteration 9900: 0.528816\n",
      "Cost after iteration 10000: 0.492651\n",
      "Cost after iteration 10100: 0.454626\n",
      "Cost after iteration 10200: 0.427260\n",
      "Cost after iteration 10300: 0.407404\n",
      "Cost after iteration 10400: 0.389745\n",
      "Cost after iteration 10500: 0.375545\n",
      "Cost after iteration 10600: 0.365250\n",
      "Cost after iteration 10700: 0.358115\n",
      "Cost after iteration 10800: 0.352845\n",
      "Cost after iteration 10900: 0.348506\n",
      "Cost after iteration 11000: 0.344650\n",
      "Cost after iteration 11100: 0.341149\n",
      "Cost after iteration 11200: 0.337933\n",
      "Cost after iteration 11300: 0.334886\n",
      "Cost after iteration 11400: 0.331875\n",
      "Cost after iteration 11500: 0.328827\n",
      "Cost after iteration 11600: 0.325762\n",
      "Cost after iteration 11700: 0.322713\n",
      "Cost after iteration 11800: 0.319669\n",
      "Cost after iteration 11900: 0.316613\n",
      "Cost after iteration 12000: 0.313552\n",
      "Cost after iteration 12100: 0.310516\n",
      "Cost after iteration 12200: 0.307538\n",
      "Cost after iteration 12300: 0.304639\n",
      "Cost after iteration 12400: 0.301830\n",
      "Cost after iteration 12500: 0.299115\n",
      "Cost after iteration 12600: 0.296492\n",
      "Cost after iteration 12700: 0.293955\n",
      "Cost after iteration 12800: 0.291499\n",
      "Cost after iteration 12900: 0.289115\n",
      "Cost after iteration 13000: 0.286797\n",
      "Cost after iteration 13100: 0.284540\n",
      "Cost after iteration 13200: 0.282337\n",
      "Cost after iteration 13300: 0.280185\n",
      "Cost after iteration 13400: 0.278078\n",
      "Cost after iteration 13500: 0.276013\n",
      "Cost after iteration 13600: 0.273988\n",
      "Cost after iteration 13700: 0.271999\n",
      "Cost after iteration 13800: 0.270044\n",
      "Cost after iteration 13900: 0.268122\n"
     ]
    },
    {
     "data": {
      "image/png": "[encoded data removed]",
      "text/plain": [
       "<Figure size 432x288 with 1 Axes>"
      ]
     },
     "metadata": {
      "needs_background": "light"
     },
     "output_type": "display_data"
    }
   ],
   "source": [
    "cls.fit(X_train, Y_train)"
   ]
  },
  {
   "cell_type": "code",
   "execution_count": 11,
   "metadata": {
    "scrolled": true
   },
   "outputs": [
    {
     "name": "stdout",
     "output_type": "stream",
     "text": [
      "{'W1': array([[ 1.47230490e+00, -4.03200645e-01],\n",
      "       [-6.05511348e-01, -7.92744572e-01],\n",
      "       [ 7.14439096e-01, -8.95769854e-01],\n",
      "       [ 6.23130099e-01,  4.08361512e+00],\n",
      "       [-5.70464151e-01, -8.28471967e-01],\n",
      "       [ 3.12502026e+00,  3.73239991e-01],\n",
      "       [ 4.60067273e+00,  1.05641980e+00],\n",
      "       [-8.96239153e-01,  1.14665549e+00],\n",
      "       [-1.35620310e-01, -8.68724161e-01],\n",
      "       [ 3.13516434e-01,  4.13003794e-01],\n",
      "       [-4.77716276e+00, -3.06889208e+00],\n",
      "       [-5.40311067e-01, -7.99680175e-01],\n",
      "       [-2.11173677e-01, -9.73512079e-01],\n",
      "       [-2.30382370e-01, -1.08263286e+00],\n",
      "       [ 2.94645955e-01,  6.04205688e-01],\n",
      "       [-2.84060197e+00,  1.88348488e+00],\n",
      "       [-6.06540508e-01, -5.94171695e-01],\n",
      "       [-4.39559332e-01,  3.46432034e-04],\n",
      "       [-4.61907421e-01, -8.07161655e-01],\n",
      "       [-9.33339606e-01,  1.23955640e+00]]), 'b1': array([[-0.27752661],\n",
      "       [ 0.02923476],\n",
      "       [ 2.04858021],\n",
      "       [-5.93358511],\n",
      "       [-0.08735392],\n",
      "       [ 1.78673553],\n",
      "       [ 3.72211863],\n",
      "       [-2.64591069],\n",
      "       [-1.28227623],\n",
      "       [ 0.25777817],\n",
      "       [ 5.18501022],\n",
      "       [-0.11244265],\n",
      "       [-1.25246391],\n",
      "       [-1.40194383],\n",
      "       [ 0.53183966],\n",
      "       [ 6.74858324],\n",
      "       [ 0.32446886],\n",
      "       [ 0.76923204],\n",
      "       [-0.3254684 ],\n",
      "       [-2.81808905]]), 'W2': array([[ 1.05251225,  0.24548905,  0.1608573 ,  1.72900495,  0.27968859,\n",
      "         0.12963702, -0.78252454,  0.60164333,  0.50484943,  0.30973802,\n",
      "        -1.66595803,  0.29036028,  0.46703438,  0.42770654,  0.29201483,\n",
      "        -3.07146863,  0.1912567 ,  0.04682304,  0.30884266,  0.62614158],\n",
      "       [-0.49811162, -1.44021849,  0.83262857,  2.83889682, -1.38435989,\n",
      "         1.08228947,  1.11934279,  1.76138299, -0.40253123,  0.46536863,\n",
      "        -4.5339582 , -1.32916803, -0.50531464, -0.58392525,  0.57331378,\n",
      "        -3.91268539, -1.60708906, -1.69637284, -1.20873306,  1.797055  ],\n",
      "       [-0.53051102, -0.37272137,  0.66587326, -1.45129775, -0.3923623 ,\n",
      "         0.98359624,  1.85405269, -0.26967206, -0.44439777,  0.0963574 ,\n",
      "         1.06979228, -0.39810524, -0.46379728, -0.48843577,  0.14633274,\n",
      "         1.12138256, -0.2874609 , -0.24027669, -0.45120056, -0.31321695],\n",
      "       [-0.2359461 , -0.44439238,  0.80622281, -1.24884667, -0.4848071 ,\n",
      "         1.2872237 ,  2.15213237, -0.18765204, -0.49156376,  0.27655317,\n",
      "         0.41982723, -0.47057338, -0.50230176, -0.54840054,  0.34451852,\n",
      "         1.14860889, -0.38468057, -0.34825186, -0.49979093, -0.21706097],\n",
      "       [ 0.44778807,  0.05151919,  0.19758072,  0.8414421 ,  0.0596185 ,\n",
      "         0.17342697, -0.23767252,  0.26168066,  0.15994136,  0.1457241 ,\n",
      "        -1.10712888,  0.08159654,  0.17037438,  0.17219214,  0.12735343,\n",
      "        -1.21145081,  0.00651257, -0.11638218,  0.10456509,  0.2782734 ],\n",
      "       [ 1.60958937,  0.9132378 , -2.29018364,  4.2046516 ,  1.04086049,\n",
      "        -1.74373971, -3.19025364,  2.2826567 ,  1.66830931, -0.67504786,\n",
      "        -2.49226619,  1.03003116,  1.69381317,  1.83328413, -1.0264268 ,\n",
      "        -4.32051536,  0.60482164,  0.06506916,  1.22011832,  2.43074658]]), 'b2': array([[ 0.64920189],\n",
      "       [-0.20427592],\n",
      "       [-0.32732175],\n",
      "       [-0.22177306],\n",
      "       [ 0.16732925],\n",
      "       [ 0.15857051]]), 'W3': array([[-4.29922265, -8.92736215,  3.76014568,  3.87807069, -1.98744164,\n",
      "        -9.04666053]]), 'b3': array([[0.4048632]])}\n"
     ]
    }
   ],
   "source": [
    "print(cls.parameters)"
   ]
  },
  {
   "cell_type": "code",
   "execution_count": 12,
   "metadata": {
    "scrolled": true
   },
   "outputs": [
    {
     "data": {
      "text/plain": [
       "array([[9.48886899e-01, 5.11131014e-02],\n",
       "       [9.86773609e-01, 1.32263905e-02],\n",
       "       [9.98443145e-01, 1.55685450e-03],\n",
       "       [2.15733090e-01, 7.84266910e-01],\n",
       "       [5.45087349e-03, 9.94549127e-01],\n",
       "       [6.79461476e-02, 9.32053852e-01],\n",
       "       [9.81704123e-01, 1.82958769e-02],\n",
       "       [2.02917311e-01, 7.97082689e-01],\n",
       "       [1.08458524e-01, 8.91541476e-01],\n",
       "       [5.20348577e-01, 4.79651423e-01],\n",
       "       [5.39925391e-03, 9.94600746e-01],\n",
       "       [1.08106347e-02, 9.89189365e-01],\n",
       "       [1.78854329e-03, 9.98211457e-01],\n",
       "       [1.04626271e-02, 9.89537373e-01],\n",
       "       [4.44348320e-02, 9.55565168e-01],\n",
       "       [5.80994200e-02, 9.41900580e-01],\n",
       "       [3.13649845e-01, 6.86350155e-01],\n",
       "       [9.76512383e-04, 9.99023488e-01],\n",
       "       [8.23864580e-01, 1.76135420e-01],\n",
       "       [7.20557042e-01, 2.79442958e-01],\n",
       "       [6.02280391e-01, 3.97719609e-01],\n",
       "       [8.92545825e-01, 1.07454175e-01],\n",
       "       [3.94682584e-02, 9.60531742e-01],\n",
       "       [1.08370701e-01, 8.91629299e-01],\n",
       "       [1.01524133e-02, 9.89847587e-01],\n",
       "       [1.45856233e-01, 8.54143767e-01],\n",
       "       [1.25594643e-01, 8.74405357e-01],\n",
       "       [9.79588523e-01, 2.04114766e-02],\n",
       "       [4.82251366e-02, 9.51774863e-01],\n",
       "       [9.96171133e-01, 3.82886692e-03],\n",
       "       [9.41712235e-01, 5.82877653e-02],\n",
       "       [6.77095316e-01, 3.22904684e-01],\n",
       "       [5.02890403e-02, 9.49710960e-01],\n",
       "       [9.11054909e-01, 8.89450910e-02],\n",
       "       [8.59218526e-01, 1.40781474e-01],\n",
       "       [9.28889999e-01, 7.11100007e-02],\n",
       "       [5.77802239e-01, 4.22197761e-01],\n",
       "       [9.98061276e-01, 1.93872380e-03],\n",
       "       [1.06487094e-02, 9.89351291e-01],\n",
       "       [3.80162335e-01, 6.19837665e-01],\n",
       "       [2.88117633e-02, 9.71188237e-01],\n",
       "       [9.04227374e-01, 9.57726265e-02],\n",
       "       [6.58508022e-01, 3.41491978e-01],\n",
       "       [5.94068189e-01, 4.05931811e-01],\n",
       "       [9.21682679e-01, 7.83173211e-02],\n",
       "       [3.38582082e-02, 9.66141792e-01],\n",
       "       [1.59557225e-02, 9.84044277e-01],\n",
       "       [6.06391262e-03, 9.93936087e-01],\n",
       "       [7.26812827e-01, 2.73187173e-01],\n",
       "       [1.84424030e-02, 9.81557597e-01],\n",
       "       [6.05077353e-03, 9.93949226e-01],\n",
       "       [2.40542795e-01, 7.59457205e-01],\n",
       "       [4.69283691e-01, 5.30716309e-01],\n",
       "       [9.97123363e-01, 2.87663709e-03],\n",
       "       [4.87317735e-01, 5.12682265e-01],\n",
       "       [5.00580447e-01, 4.99419553e-01],\n",
       "       [8.72948591e-01, 1.27051409e-01],\n",
       "       [9.94051253e-01, 5.94874738e-03],\n",
       "       [5.29962636e-03, 9.94700374e-01],\n",
       "       [7.81089681e-01, 2.18910319e-01],\n",
       "       [1.59829482e-01, 8.40170518e-01],\n",
       "       [9.47216247e-01, 5.27837528e-02],\n",
       "       [8.16130105e-02, 9.18386989e-01],\n",
       "       [6.33597598e-02, 9.36640240e-01],\n",
       "       [6.34274530e-01, 3.65725470e-01],\n",
       "       [3.58194130e-01, 6.41805870e-01],\n",
       "       [6.18716172e-02, 9.38128383e-01],\n",
       "       [2.71001705e-01, 7.28998295e-01],\n",
       "       [1.25060831e-01, 8.74939169e-01],\n",
       "       [9.99334276e-01, 6.65724009e-04],\n",
       "       [1.55112495e-01, 8.44887505e-01],\n",
       "       [8.21463574e-03, 9.91785364e-01],\n",
       "       [8.95001716e-02, 9.10499828e-01],\n",
       "       [9.95439083e-01, 4.56091677e-03],\n",
       "       [4.27499338e-02, 9.57250066e-01],\n",
       "       [2.00147595e-01, 7.99852405e-01],\n",
       "       [9.94736244e-01, 5.26375556e-03],\n",
       "       [4.78632079e-01, 5.21367921e-01],\n",
       "       [7.51296669e-01, 2.48703331e-01],\n",
       "       [9.97163958e-01, 2.83604183e-03],\n",
       "       [7.39647272e-01, 2.60352728e-01],\n",
       "       [9.96871458e-01, 3.12854243e-03],\n",
       "       [9.97961366e-01, 2.03863390e-03],\n",
       "       [1.78519728e-01, 8.21480272e-01],\n",
       "       [9.86960186e-01, 1.30398136e-02],\n",
       "       [8.85188343e-01, 1.14811657e-01],\n",
       "       [1.22348908e-02, 9.87765109e-01],\n",
       "       [3.57213747e-02, 9.64278625e-01],\n",
       "       [9.99041270e-01, 9.58730225e-04],\n",
       "       [1.81453774e-01, 8.18546226e-01],\n",
       "       [9.61115593e-02, 9.03888441e-01],\n",
       "       [8.74019601e-01, 1.25980399e-01],\n",
       "       [6.24179384e-02, 9.37582062e-01],\n",
       "       [9.74805513e-01, 2.51944866e-02]])"
      ]
     },
     "execution_count": 12,
     "metadata": {},
     "output_type": "execute_result"
    }
   ],
   "source": [
    "Y_prob = cls.predict_proba(X_train)\n",
    "Y_prob"
   ]
  },
  {
   "cell_type": "code",
   "execution_count": 13,
   "metadata": {},
   "outputs": [],
   "source": [
    "Y_train_hat = cls.predict(X_train)\n",
    "Y_test_hat = cls.predict(X_test)"
   ]
  },
  {
   "cell_type": "code",
   "execution_count": 14,
   "metadata": {},
   "outputs": [
    {
     "data": {
      "text/plain": [
       "0.851063829787234"
      ]
     },
     "execution_count": 14,
     "metadata": {},
     "output_type": "execute_result"
    }
   ],
   "source": [
    "accuracy_score(Y_train, Y_train_hat)"
   ]
  },
  {
   "cell_type": "code",
   "execution_count": 15,
   "metadata": {},
   "outputs": [
    {
     "data": {
      "text/plain": [
       "0.8333333333333334"
      ]
     },
     "execution_count": 15,
     "metadata": {},
     "output_type": "execute_result"
    }
   ],
   "source": [
    "accuracy_score(Y_test, Y_test_hat)"
   ]
  },
  {
   "cell_type": "code",
   "execution_count": 16,
   "metadata": {},
   "outputs": [
    {
     "data": {
      "image/png": "[encoded data removed]",
      "text/plain": [
       "<Figure size 432x288 with 1 Axes>"
      ]
     },
     "metadata": {
      "needs_background": "light"
     },
     "output_type": "display_data"
    }
   ],
   "source": [
    "plot_data(X_train, Y_train.reshape((Y_train.shape[0],)))#_train\n",
    "plot_data(X_test, Y_test.reshape((Y_test.shape[0],)), color_map = cm_bright_test)\n",
    "plot_surface(cls, X[:, 0], X[:, 1])"
   ]
  },
  {
   "cell_type": "markdown",
   "metadata": {},
   "source": [
    "Зверніть увагу на границю прийняття рішення. Модель старається побудувати складну криву, що може свідчити про її перетренування. Порівняйте отримані результати з класом з sklearn. Спробуйте додати нові шари для нашого класу та порівняти результати тоді. Поекспериментуйте з гіперпараметрами для обох класів."
   ]
  },
  {
   "cell_type": "code",
   "execution_count": 17,
   "metadata": {},
   "outputs": [],
   "source": [
    "from sklearn.neural_network import MLPClassifier\n",
    "clf = MLPClassifier(hidden_layer_sizes = (20,), max_iter = 10000, activation = 'relu', solver = 'sgd', learning_rate_init = 0.01, learning_rate = 'constant')"
   ]
  },
  {
   "cell_type": "code",
   "execution_count": 18,
   "metadata": {},
   "outputs": [
    {
     "data": {
      "text/plain": [
       "MLPClassifier(activation='relu', alpha=0.0001, batch_size='auto', beta_1=0.9,\n",
       "              beta_2=0.999, early_stopping=False, epsilon=1e-08,\n",
       "              hidden_layer_sizes=(20,), learning_rate='constant',\n",
       "              learning_rate_init=0.01, max_iter=10000, momentum=0.9,\n",
       "              n_iter_no_change=10, nesterovs_momentum=True, power_t=0.5,\n",
       "              random_state=None, shuffle=True, solver='sgd', tol=0.0001,\n",
       "              validation_fraction=0.1, verbose=False, warm_start=False)"
      ]
     },
     "execution_count": 18,
     "metadata": {},
     "output_type": "execute_result"
    }
   ],
   "source": [
    "clf.fit(X, Y)"
   ]
  },
  {
   "cell_type": "code",
   "execution_count": 19,
   "metadata": {},
   "outputs": [
    {
     "data": {
      "image/png": "[encoded data removed]",
      "text/plain": [
       "<Figure size 432x288 with 1 Axes>"
      ]
     },
     "metadata": {
      "needs_background": "light"
     },
     "output_type": "display_data"
    }
   ],
   "source": [
    "plot_data(X, Y)\n",
    "plot_surface(clf, X[:, 0], X[:, 1])"
   ]
  },
  {
   "cell_type": "code",
   "execution_count": 20,
   "metadata": {},
   "outputs": [
    {
     "data": {
      "text/plain": [
       "0.8559322033898306"
      ]
     },
     "execution_count": 20,
     "metadata": {},
     "output_type": "execute_result"
    }
   ],
   "source": [
    "accuracy_score(Y, clf.predict(X))"
   ]
  },
  {
   "cell_type": "code",
   "execution_count": null,
   "metadata": {},
   "outputs": [],
   "source": [
    "m.sqrt(mean_squared_error(y_test, y_pred))"
   ]
  },
  {
   "cell_type": "code",
   "execution_count": null,
   "metadata": {},
   "outputs": [],
   "source": [
    "mean_squared_error(y_test, y_pred) "
   ]
  },
  {
   "cell_type": "code",
   "execution_count": null,
   "metadata": {},
   "outputs": [],
   "source": []
  },
  {
   "cell_type": "code",
   "execution_count": null,
   "metadata": {},
   "outputs": [],
   "source": []
  },
  {
   "cell_type": "code",
   "execution_count": null,
   "metadata": {},
   "outputs": [],
   "source": []
  }
 ],
 "metadata": {
  "anaconda-cloud": {},
  "kernelspec": {
   "display_name": "Python 3",
   "language": "python",
   "name": "python3"
  },
  "language_info": {
   "codemirror_mode": {
    "name": "ipython",
    "version": 3
   },
   "file_extension": ".py",
   "mimetype": "text/x-python",
   "name": "python",
   "nbconvert_exporter": "python",
   "pygments_lexer": "ipython3",
   "version": "3.8.2"
  }
 },
 "nbformat": 4,
 "nbformat_minor": 1
}
