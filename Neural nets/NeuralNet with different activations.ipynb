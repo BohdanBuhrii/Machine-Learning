{
 "cells": [
  {
   "cell_type": "markdown",
   "metadata": {},
   "source": [
    "В цій практичній роботі ми спробуємо реалізувати нейронну мережу з двох шарів (прихований і вихідний). Запропонований підхід стане заготовкою для реалізації наступних оптимізацій: MBGD, ADAM та регуляризації. \n",
    "\n",
    "Сьогодні ж вам пропонується додати до цього класу підтримку довільної кількості шарів та нейронів в них (наприклад, передавати їх параметром в конструктор, як це робиться в MLPClassifier за допомогою hidden_layer_sizes). Також потрібно передбачити можливість ранньої зупинки ітераційного процесу, якщо значення штрафної функції не покращуватиметься протягом певної кількості ітерацій. Наприклад, якщо протягом $k$ ітерацій штрафна функція за модулем не стане меншою, ніж на поточному кроці."
   ]
  },
  {
   "cell_type": "code",
   "execution_count": 1,
   "metadata": {},
   "outputs": [],
   "source": [
    "import numpy as np\n",
    "import pandas as pd\n",
    "from sklearn.model_selection import train_test_split\n",
    "from mpl_toolkits.mplot3d import Axes3D\n",
    "import matplotlib.pyplot as plt\n",
    "\n",
    "from matplotlib.colors import ListedColormap\n",
    "cm_bright = ListedColormap(['#FF0000', '#0000FF'])\n",
    "cm_bright_test = ListedColormap(['#FFA833','#33E0FF']) # '5EFF33', '#FFF933'\n",
    "%matplotlib inline\n",
    "from sklearn.metrics import accuracy_score\n",
    "\n",
    "import sklearn.linear_model\n",
    "\n",
    "np.random.seed(1)"
   ]
  },
  {
   "cell_type": "code",
   "execution_count": 2,
   "metadata": {},
   "outputs": [],
   "source": [
    "def plot_surface(cls, x_1, x_2, ax=None, threshold=0.5, contourf=False):\n",
    "    xx1, xx2 = np.meshgrid(np.linspace(x_1.min(), x_1.max(), 100), \n",
    "                           np.linspace(x_2.min(), x_2.max(), 100))\n",
    "\n",
    "    X_pred = np.c_[xx1.ravel(), xx2.ravel()]\n",
    "    pred = cls.predict_proba(X_pred)[:, 0]\n",
    "    Z = pred.reshape((100, 100))\n",
    "    if ax is None:\n",
    "        ax = plt.gca()\n",
    "    ax.contour(xx1, xx2, Z, levels=[threshold], colors='black')\n",
    "    ax.set_xlim((x_1.min(), x_1.max()))\n",
    "    ax.set_ylim((x_2.min(), x_2.max()))"
   ]
  },
  {
   "cell_type": "code",
   "execution_count": 3,
   "metadata": {},
   "outputs": [],
   "source": [
    "def plot_data(X, y, color_map=cm_bright):\n",
    "    ax = plt.gca()\n",
    "    ax.scatter(X[:,0], X[:,1], c=(y == 1), cmap=color_map)"
   ]
  },
  {
   "cell_type": "code",
   "execution_count": 29,
   "metadata": {},
   "outputs": [],
   "source": [
    "class SoftmaxNeuralNet:\n",
    "\n",
    "  def __init__(self, layer_dims, normalize=True, learning_rate=0.01, num_iter=30000, precision=None):\n",
    "    self.learning_rate = learning_rate\n",
    "    self.num_iter = num_iter\n",
    "    self.normalize = normalize\n",
    "    self.layer_dims = layer_dims\n",
    "    self.precision = precision\n",
    "\n",
    "  def __normalize(self, X, mean=None, std=None):\n",
    "    n = X.shape[0]\n",
    "\n",
    "    if mean is None:\n",
    "      mean = np.mean(X, axis=1).reshape((n, 1))\n",
    "\n",
    "    if std is None:\n",
    "      std = np.std(X, axis=1).reshape((n, 1))\n",
    "      \n",
    "    X_new = (X - mean) / std**2\n",
    "    \n",
    "    return X_new, mean, std\n",
    "\n",
    "  def __sigmoid(self, Z):\n",
    "    return 1 / (1 + np.exp(-Z))\n",
    "\n",
    "  def __sigmoid_derivative(self, Z):\n",
    "    s = self.__sigmoid(Z)\n",
    "    return s*(1 - s)\n",
    "\n",
    "  def __relu(self, Z):\n",
    "    Z = np.array(Z, copy=True)\n",
    "    Z[Z < 0] = 0\n",
    "    return Z\n",
    "\n",
    "  def __relu_derivative(self, Z):\n",
    "    dZ = np.ones(Z.shape)\n",
    "    dZ[Z <=0 ] = 0\n",
    "    return dZ\n",
    "\n",
    "  def __softmax(self, Z):\n",
    "    eZ = np.exp(Z)\n",
    "    return eZ / np.sum(eZ, axis=0)\n",
    "\n",
    "  def __softmax_derivative(self, Z):\n",
    "    #s = softmax.reshape(-1, 1)\n",
    "    return np.diagflat(Z) - np.dot(Z, Z.T)\n",
    "\n",
    "  def __initialize_parameters(self):\n",
    "    layer_dims = self.layer_dims\n",
    "    parameters = {}\n",
    "    L = len(layer_dims)\n",
    "\n",
    "    for l in range(1, L):\n",
    "      parameters['W' + str(l)] = np.random.randn(layer_dims[l], layer_dims[l-1]) * 0.01\n",
    "      parameters['b' + str(l)] = np.zeros((layer_dims[l], 1))\n",
    "\n",
    "    self.parameters = parameters\n",
    "\n",
    "  def __forward_linear_activation(self, A_prev, W, b, activation):\n",
    "\n",
    "    # linear forward\n",
    "    Z = np.dot(W, A_prev) + b\n",
    "    linear_cache = (A_prev, W, b)\n",
    "\n",
    "    # activation forward\n",
    "    if activation == 'sigmoid':\n",
    "      A = self.__sigmoid(Z)\n",
    "    \n",
    "    if activation == 'relu':\n",
    "      A = self.__relu(Z)\n",
    "    \n",
    "    if activation == 'softmax':\n",
    "      A = self.__softmax(Z)\n",
    "    \n",
    "    activation_cache = Z\n",
    "\n",
    "    cache = (linear_cache, activation_cache)\n",
    "\n",
    "    return A, cache\n",
    "\n",
    "  def __multilayer_forward(self, X):\n",
    "    parameters = self.parameters\n",
    "    caches = []\n",
    "    A = X\n",
    "    L = len(parameters) // 2\n",
    "\n",
    "    for l in range(1, L):\n",
    "      A_prev = A\n",
    "      A, cache = self.__forward_linear_activation(\n",
    "        A_prev, parameters[\"W\"+str(l)], parameters[\"b\"+str(l)], activation='relu')\n",
    "      caches.append(cache)\n",
    "\n",
    "    AL, cache = self.__forward_linear_activation(\n",
    "      A, parameters[\"W\"+str(L)], parameters[\"b\"+str(L)], activation='sigmoid')\n",
    "    caches.append(cache)\n",
    "\n",
    "    assert(AL.shape == (1, X.shape[1]))\n",
    "\n",
    "    return AL, caches\n",
    "\n",
    "  def __backward_linear_activation(self, dA, cache, activation):\n",
    "\n",
    "    linear_cache, activation_cache = cache\n",
    "\n",
    "    # activation backward\n",
    "    Z = activation_cache\n",
    "    \n",
    "    if activation == 'sigmoid':\n",
    "      dZ = dA * self.__sigmoid_derivative(Z)\n",
    "\n",
    "    if activation == 'relu':\n",
    "      dZ = dA * self.__relu_derivative(Z)\n",
    "\n",
    "    if activation == 'softmax':\n",
    "      dZ = dA * self.__softmax_derivative(Z)\n",
    "\n",
    "    # linear backward\n",
    "    A_prev, W, b = linear_cache\n",
    "    m = A_prev.shape[1]\n",
    "    dW = 1 / m * np.dot(dZ, A_prev.T)\n",
    "    db = 1 / m * np.sum(dZ, axis=1, keepdims=True)\n",
    "    dA_prev = np.dot(W.T, dZ)\n",
    "\n",
    "    return dA_prev, dW, db\n",
    "\n",
    "  def __multilayer_backward(self, X, Y, caches):\n",
    "    grads = {}\n",
    "    AL = X\n",
    "    L = len(caches)\n",
    "    m = AL.shape[1]\n",
    "    Y = Y.reshape(AL.shape)\n",
    "\n",
    "    # sigmoid\n",
    "    dAL = -(np.divide(Y, AL) - np.divide(1 - Y, 1 - AL))\n",
    "    #dAL = - np.multiply(AL, np.log(Y)).sum() / Y.shape[0]\n",
    "    \n",
    "    \n",
    "    current_cache = caches[L-1]\n",
    "    grads[\"dA\" + str(L-1)], grads[\"dW\" + str(L)], grads[\"db\" + str(L)] = \\\n",
    "      self.__backward_linear_activation(dAL, current_cache, activation='sigmoid')\n",
    "\n",
    "    for l in reversed(range(L-1)):\n",
    "      current_cache = caches[l]\n",
    "      dA_prev_temp, dW_temp, db_temp = \\\n",
    "        self.__backward_linear_activation(grads[\"dA\" + str(l + 1)], current_cache, activation='relu')\n",
    "      grads[\"dA\" + str(l)] = dA_prev_temp\n",
    "      grads[\"dW\" + str(l + 1)] = dW_temp\n",
    "      grads[\"db\" + str(l + 1)] = db_temp\n",
    "\n",
    "    return grads\n",
    "\n",
    "  def compute_cost(self, A, Y):\n",
    "    m = Y.shape[1]\n",
    "    res = Y * np.log(A) + (1 - Y) * np.log(1 - A)\n",
    "    J = -(1 / m) * np.sum(res)\n",
    "    return J\n",
    "\n",
    "  def cross_entropy(self, A, Y):\n",
    "    return - np.sum(np.log(A) * (Y), axis=1)\n",
    "\n",
    "  def __update_parameters(self, grads):\n",
    "    parameters = self.parameters\n",
    "    learning_rate = self.learning_rate\n",
    "    L = len(parameters) // 2\n",
    "\n",
    "    for l in range(L):\n",
    "      parameters[\"W\" + str(l+1)] = parameters[\"W\" + str(l+1)] - learning_rate * grads[\"dW\" + str(l+1)]\n",
    "      parameters[\"b\" + str(l+1)] = parameters[\"b\" + str(l+1)] - learning_rate * grads[\"db\" + str(l+1)]\n",
    "\n",
    "    self.parameters = parameters\n",
    "\n",
    "  def fit(self, X_vert, Y_vert, print_cost=True):\n",
    "\n",
    "    X, Y = X_vert.T, Y_vert.T\n",
    "\n",
    "    if self.normalize:\n",
    "      X, self.__mean, self.__std = self.__normalize(X)\n",
    "\n",
    "    costs = []\n",
    "\n",
    "    self.__initialize_parameters()\n",
    "\n",
    "    for i in range(0, self.num_iter):\n",
    "\n",
    "      AL, caches = self.__multilayer_forward(X)\n",
    "\n",
    "      cost = self.compute_cost(AL, Y)\n",
    "\n",
    "      grads = self.__multilayer_backward(AL, Y, caches)\n",
    "\n",
    "      self.__update_parameters(grads)\n",
    "\n",
    "      if print_cost and i % 100 == 0:\n",
    "        print(\"Cost after iteration %i: %f\" % (i, cost))\n",
    "      if print_cost and i % 100 == 0:\n",
    "        costs.append(cost)\n",
    "\n",
    "      if len(costs) > 1 and self.precision != None and np.abs(costs[-2] - costs[-1]) < self.precision:\n",
    "        print('Stopping gradient descent ...')\n",
    "        break\n",
    "\n",
    "    if print_cost:\n",
    "      plt.plot(costs)\n",
    "      plt.ylabel(\"Cost\")\n",
    "      plt.xlabel(\"Iteration, *100\")\n",
    "      plt.show()\n",
    "\n",
    "  def predict_proba(self, X_vert):\n",
    "    X = X_vert.T\n",
    "    if self.normalize:\n",
    "      X, _, _ = self.__normalize(X, self.__mean, self.__std)\n",
    "\n",
    "    probs = self.__multilayer_forward(X)[0]\n",
    "\n",
    "    return np.column_stack((probs.T, 1 - probs.T))\n",
    "\n",
    "  def predict(self, X_vert):\n",
    "    positive_probs = self.predict_proba(X_vert)[:, 0]\n",
    "    return (positive_probs >= 0.5).astype(int)\n"
   ]
  },
  {
   "cell_type": "markdown",
   "metadata": {},
   "source": [
    "Спочатку спробуйте цей клас на одній задачі, а потім на іншій."
   ]
  },
  {
   "cell_type": "code",
   "execution_count": 5,
   "metadata": {},
   "outputs": [],
   "source": [
    "#data_columns = [\"exam1\", \"exam2\"]\n",
    "#target_column = \"submitted\"\n",
    "#df = pd.read_csv(\"sats.csv\")\n",
    "#X, Y = df[data_columns].values, df[target_column].reshape((df.shape[0], 1))\n",
    "#print('Training set: X={}, y={}'.format(X.shape, Y.shape))"
   ]
  },
  {
   "cell_type": "code",
   "execution_count": 24,
   "metadata": {},
   "outputs": [
    {
     "name": "stdout",
     "output_type": "stream",
     "text": [
      "Training set: X=(118, 2), y=(118,)\n"
     ]
    }
   ],
   "source": [
    "data_columns = [\"test1\", \"test2\"]\n",
    "target_column = \"passed\"\n",
    "df = pd.read_csv(\"../Logistic Regression/data/tests.csv\")\n",
    "X, Y = df[data_columns].values, df[target_column]\n",
    "print('Training set: X={}, y={}'.format(X.shape, Y.shape))"
   ]
  },
  {
   "cell_type": "code",
   "execution_count": 25,
   "metadata": {},
   "outputs": [
    {
     "data": {
      "image/png": "[encoded data removed]",
      "text/plain": [
       "<Figure size 432x288 with 1 Axes>"
      ]
     },
     "metadata": {
      "needs_background": "light"
     },
     "output_type": "display_data"
    }
   ],
   "source": [
    "plot_data(X, Y)"
   ]
  },
  {
   "cell_type": "code",
   "execution_count": 46,
   "metadata": {},
   "outputs": [],
   "source": [
    "#cls = DeepNeuralNet(layer_dims = [2,2,1] , learning_rate = 0.5, num_iter = 4000)\n",
    "#cls = DeepNeuralNet(layer_dims = [2,20,1], normalize = True, learning_rate = 0.5, num_iter = 4000)\n",
    "#cls = DeepNeuralNet(layer_dims = [2,20,1], normalize = True, learning_rate = 0.5, num_iter = 10000)\n",
    "#cls = SoftmaxNeuralNet(layer_dims = [2,20,6,1], normalize = True, learning_rate = 0.5, num_iter = 4000) # easy overfit\n",
    "cls = SoftmaxNeuralNet(layer_dims = [2,20,1], normalize = True, learning_rate = 0.5, num_iter = 4000)"
   ]
  },
  {
   "cell_type": "code",
   "execution_count": 47,
   "metadata": {},
   "outputs": [],
   "source": [
    "X_train, X_test, Y_train, Y_test = train_test_split(X, Y.values.reshape((Y.shape[0], 1)), test_size = 0.2, random_state=10)"
   ]
  },
  {
   "cell_type": "code",
   "execution_count": 48,
   "metadata": {
    "scrolled": true
   },
   "outputs": [
    {
     "name": "stdout",
     "output_type": "stream",
     "text": [
      "Cost after iteration 0: 0.693212\n",
      "Cost after iteration 100: 0.618415\n",
      "Cost after iteration 200: 0.509754\n",
      "Cost after iteration 300: 0.406367\n",
      "Cost after iteration 400: 0.350948\n",
      "Cost after iteration 500: 0.332885\n",
      "Cost after iteration 600: 0.336381\n",
      "Cost after iteration 700: 0.329994\n",
      "Cost after iteration 800: 0.325880\n",
      "Cost after iteration 900: 0.323433\n",
      "Cost after iteration 1000: 0.322746\n",
      "Cost after iteration 1100: 0.321723\n",
      "Cost after iteration 1200: 0.321358\n",
      "Cost after iteration 1300: 0.320927\n",
      "Cost after iteration 1400: 0.320451\n",
      "Cost after iteration 1500: 0.320344\n",
      "Cost after iteration 1600: 0.320425\n",
      "Cost after iteration 1700: 0.320207\n",
      "Cost after iteration 1800: 0.320063\n",
      "Cost after iteration 1900: 0.319721\n",
      "Cost after iteration 2000: 0.319965\n",
      "Cost after iteration 2100: 0.319753\n",
      "Cost after iteration 2200: 0.319716\n",
      "Cost after iteration 2300: 0.319580\n",
      "Cost after iteration 2400: 0.319498\n",
      "Cost after iteration 2500: 0.319585\n",
      "Cost after iteration 2600: 0.319480\n",
      "Cost after iteration 2700: 0.319510\n",
      "Cost after iteration 2800: 0.319566\n",
      "Cost after iteration 2900: 0.319460\n",
      "Cost after iteration 3000: 0.319435\n",
      "Cost after iteration 3100: 0.319419\n",
      "Cost after iteration 3200: 0.319419\n",
      "Cost after iteration 3300: 0.319399\n",
      "Cost after iteration 3400: 0.319323\n",
      "Cost after iteration 3500: 0.319351\n",
      "Cost after iteration 3600: 0.319311\n",
      "Cost after iteration 3700: 0.319286\n",
      "Cost after iteration 3800: 0.319277\n",
      "Cost after iteration 3900: 0.319163\n"
     ]
    },
    {
     "data": {
      "image/png": "[encoded data removed]",
      "text/plain": [
       "<Figure size 432x288 with 1 Axes>"
      ]
     },
     "metadata": {
      "needs_background": "light"
     },
     "output_type": "display_data"
    }
   ],
   "source": [
    "cls.fit(X_train, Y_train)"
   ]
  },
  {
   "cell_type": "code",
   "execution_count": 49,
   "metadata": {
    "scrolled": true
   },
   "outputs": [
    {
     "name": "stdout",
     "output_type": "stream",
     "text": [
      "{'W1': array([[ 3.50348581e-01, -1.06635080e+00],\n",
      "       [ 3.25072914e-01, -9.95625520e-01],\n",
      "       [ 2.38415870e-01, -7.22642509e-01],\n",
      "       [ 3.90128498e-01,  2.63069492e-01],\n",
      "       [-1.10279806e-02,  2.00556755e-01],\n",
      "       [-1.39763190e-02,  2.57798832e-01],\n",
      "       [-1.50397776e+00, -3.93540053e-01],\n",
      "       [ 2.94631453e-05, -7.23654718e-06],\n",
      "       [ 5.14205639e-01,  3.50975203e-01],\n",
      "       [-1.18840972e-01,  1.82715412e+00],\n",
      "       [ 7.46919068e-04,  4.05466598e-04],\n",
      "       [ 2.91104476e-01,  1.98257695e-01],\n",
      "       [ 9.75891285e-01,  6.60510344e-01],\n",
      "       [ 1.85435911e-01,  1.25737494e-01],\n",
      "       [-1.22608966e-03,  2.22247471e-02],\n",
      "       [ 7.21429202e-01,  4.92685926e-01],\n",
      "       [-2.03137401e-01,  1.13601723e+00],\n",
      "       [-1.44918184e+00, -3.74565005e-01],\n",
      "       [ 4.00005565e-01,  2.72903417e-01],\n",
      "       [ 1.08713448e+00,  7.30315527e-01]]), 'b1': array([[ 7.46102304e-02],\n",
      "       [ 6.90895374e-02],\n",
      "       [ 5.03791776e-02],\n",
      "       [-2.77153770e-01],\n",
      "       [ 1.76415687e+00],\n",
      "       [ 2.26139398e+00],\n",
      "       [-7.45353554e-01],\n",
      "       [-1.84431175e-03],\n",
      "       [-3.65120712e-01],\n",
      "       [-1.33255125e+00],\n",
      "       [-4.20476776e-03],\n",
      "       [-2.05439415e-01],\n",
      "       [-6.89328054e-01],\n",
      "       [-1.31785368e-01],\n",
      "       [ 1.95552574e-01],\n",
      "       [-5.13002949e-01],\n",
      "       [-4.91358500e-01],\n",
      "       [-7.13216328e-01],\n",
      "       [-2.83646280e-01],\n",
      "       [-7.67201654e-01]]), 'W2': array([[-0.95907007, -0.89504154, -0.65033588, -0.47225421,  1.07317902,\n",
      "         1.37575144, -1.44770035,  0.01286716, -0.62390836, -2.01051218,\n",
      "         0.01118681, -0.35234188, -1.18030007, -0.22471935,  0.11895695,\n",
      "        -0.87585716, -1.05533741, -1.39238615, -0.48529444, -1.31194676]]), 'b2': array([[4.71038224]])}\n"
     ]
    }
   ],
   "source": [
    "print(cls.parameters)"
   ]
  },
  {
   "cell_type": "code",
   "execution_count": 50,
   "metadata": {
    "scrolled": true
   },
   "outputs": [
    {
     "data": {
      "text/plain": [
       "array([[8.08962958e-01, 1.91037042e-01],\n",
       "       [8.99117191e-01, 1.00882809e-01],\n",
       "       [9.95818595e-01, 4.18140532e-03],\n",
       "       [9.40419863e-02, 9.05958014e-01],\n",
       "       [6.77050853e-03, 9.93229491e-01],\n",
       "       [1.65604152e-02, 9.83439585e-01],\n",
       "       [9.76867404e-01, 2.31325961e-02],\n",
       "       [3.21843508e-01, 6.78156492e-01],\n",
       "       [2.52910664e-02, 9.74708934e-01],\n",
       "       [4.22801925e-01, 5.77198075e-01],\n",
       "       [2.02513688e-05, 9.99979749e-01],\n",
       "       [8.52464638e-04, 9.99147535e-01],\n",
       "       [1.47960802e-02, 9.85203920e-01],\n",
       "       [9.91210541e-03, 9.90087895e-01],\n",
       "       [5.73509498e-03, 9.94264905e-01],\n",
       "       [2.21205731e-02, 9.77879427e-01],\n",
       "       [2.26570709e-01, 7.73429291e-01],\n",
       "       [3.04289851e-02, 9.69571015e-01],\n",
       "       [7.96905288e-01, 2.03094712e-01],\n",
       "       [7.59141400e-01, 2.40858600e-01],\n",
       "       [7.34013244e-01, 2.65986756e-01],\n",
       "       [9.58794677e-01, 4.12053226e-02],\n",
       "       [5.64357816e-02, 9.43564218e-01],\n",
       "       [4.74777779e-01, 5.25222221e-01],\n",
       "       [1.48671698e-02, 9.85132830e-01],\n",
       "       [5.12886692e-02, 9.48711331e-01],\n",
       "       [4.03163868e-02, 9.59683613e-01],\n",
       "       [9.95686230e-01, 4.31377009e-03],\n",
       "       [1.42885166e-01, 8.57114834e-01],\n",
       "       [9.92124252e-01, 7.87574782e-03],\n",
       "       [9.81343544e-01, 1.86564564e-02],\n",
       "       [8.05432643e-01, 1.94567357e-01],\n",
       "       [1.34435005e-01, 8.65564995e-01],\n",
       "       [8.49083100e-01, 1.50916900e-01],\n",
       "       [9.26375101e-01, 7.36248990e-02],\n",
       "       [8.47119712e-01, 1.52880288e-01],\n",
       "       [5.63956945e-01, 4.36043055e-01],\n",
       "       [9.95401283e-01, 4.59871705e-03],\n",
       "       [5.00118481e-03, 9.94998815e-01],\n",
       "       [1.82788273e-01, 8.17211727e-01],\n",
       "       [4.64188661e-03, 9.95358113e-01],\n",
       "       [9.57928843e-01, 4.20711574e-02],\n",
       "       [7.10531744e-01, 2.89468256e-01],\n",
       "       [5.19764458e-01, 4.80235542e-01],\n",
       "       [7.35787657e-01, 2.64212343e-01],\n",
       "       [6.88334611e-02, 9.31166539e-01],\n",
       "       [1.42233394e-01, 8.57766606e-01],\n",
       "       [1.23873423e-02, 9.87612658e-01],\n",
       "       [4.85443024e-01, 5.14556976e-01],\n",
       "       [8.16336795e-02, 9.18366320e-01],\n",
       "       [1.30146735e-03, 9.98698533e-01],\n",
       "       [1.38821677e-01, 8.61178323e-01],\n",
       "       [5.35991516e-01, 4.64008484e-01],\n",
       "       [9.89544379e-01, 1.04556215e-02],\n",
       "       [3.58463906e-01, 6.41536094e-01],\n",
       "       [5.62740004e-01, 4.37259996e-01],\n",
       "       [8.63959486e-01, 1.36040514e-01],\n",
       "       [9.48548389e-01, 5.14516112e-02],\n",
       "       [2.33442749e-02, 9.76655725e-01],\n",
       "       [7.63860676e-01, 2.36139324e-01],\n",
       "       [2.16064328e-01, 7.83935672e-01],\n",
       "       [5.31491730e-01, 4.68508270e-01],\n",
       "       [2.32044217e-01, 7.67955783e-01],\n",
       "       [5.18448475e-02, 9.48155152e-01],\n",
       "       [5.41151166e-01, 4.58848834e-01],\n",
       "       [3.51312080e-01, 6.48687920e-01],\n",
       "       [5.19197550e-02, 9.48080245e-01],\n",
       "       [4.85006663e-01, 5.14993337e-01],\n",
       "       [1.64609458e-01, 8.35390542e-01],\n",
       "       [9.99936657e-01, 6.33433382e-05],\n",
       "       [3.02145685e-01, 6.97854315e-01],\n",
       "       [1.21930520e-01, 8.78069480e-01],\n",
       "       [6.85462384e-02, 9.31453762e-01],\n",
       "       [9.96775222e-01, 3.22477776e-03],\n",
       "       [2.70340437e-03, 9.97296596e-01],\n",
       "       [6.81810771e-01, 3.18189229e-01],\n",
       "       [9.99377182e-01, 6.22818415e-04],\n",
       "       [5.07793381e-01, 4.92206619e-01],\n",
       "       [8.11563969e-01, 1.88436031e-01],\n",
       "       [9.95510164e-01, 4.48983568e-03],\n",
       "       [8.12139082e-01, 1.87860918e-01],\n",
       "       [9.82372561e-01, 1.76274392e-02],\n",
       "       [9.92735572e-01, 7.26442810e-03],\n",
       "       [1.20141935e-01, 8.79858065e-01],\n",
       "       [8.66494703e-01, 1.33505297e-01],\n",
       "       [8.61175977e-01, 1.38824023e-01],\n",
       "       [4.16926754e-02, 9.58307325e-01],\n",
       "       [2.00060064e-01, 7.99939936e-01],\n",
       "       [9.99165675e-01, 8.34324539e-04],\n",
       "       [5.52380062e-02, 9.44761994e-01],\n",
       "       [1.18904420e-01, 8.81095580e-01],\n",
       "       [8.87601890e-01, 1.12398110e-01],\n",
       "       [1.22153128e-02, 9.87784687e-01],\n",
       "       [7.95171314e-01, 2.04828686e-01]])"
      ]
     },
     "execution_count": 50,
     "metadata": {},
     "output_type": "execute_result"
    }
   ],
   "source": [
    "Y_prob = cls.predict_proba(X_train)\n",
    "Y_prob"
   ]
  },
  {
   "cell_type": "code",
   "execution_count": 51,
   "metadata": {},
   "outputs": [],
   "source": [
    "Y_train_hat = cls.predict(X_train)\n",
    "Y_test_hat = cls.predict(X_test)"
   ]
  },
  {
   "cell_type": "code",
   "execution_count": 52,
   "metadata": {},
   "outputs": [
    {
     "data": {
      "text/plain": [
       "0.8829787234042553"
      ]
     },
     "execution_count": 52,
     "metadata": {},
     "output_type": "execute_result"
    }
   ],
   "source": [
    "accuracy_score(Y_train, Y_train_hat)"
   ]
  },
  {
   "cell_type": "code",
   "execution_count": 53,
   "metadata": {},
   "outputs": [
    {
     "data": {
      "text/plain": [
       "0.875"
      ]
     },
     "execution_count": 53,
     "metadata": {},
     "output_type": "execute_result"
    }
   ],
   "source": [
    "accuracy_score(Y_test, Y_test_hat)"
   ]
  },
  {
   "cell_type": "code",
   "execution_count": 54,
   "metadata": {},
   "outputs": [
    {
     "data": {
      "image/png": "[encoded data removed]",
      "text/plain": [
       "<Figure size 432x288 with 1 Axes>"
      ]
     },
     "metadata": {
      "needs_background": "light"
     },
     "output_type": "display_data"
    }
   ],
   "source": [
    "plot_data(X_train, Y_train.reshape((Y_train.shape[0],)))#_train\n",
    "plot_data(X_test, Y_test.reshape((Y_test.shape[0],)), color_map = cm_bright_test)\n",
    "plot_surface(cls, X[:, 0], X[:, 1])"
   ]
  },
  {
   "cell_type": "markdown",
   "metadata": {},
   "source": [
    "Зверніть увагу на границю прийняття рішення. Модель старається побудувати складну криву, що може свідчити про її перетренування. Порівняйте отримані результати з класом з sklearn. Спробуйте додати нові шари для нашого класу та порівняти результати тоді. Поекспериментуйте з гіперпараметрами для обох класів."
   ]
  },
  {
   "cell_type": "code",
   "execution_count": 39,
   "metadata": {},
   "outputs": [],
   "source": [
    "from sklearn.neural_network import MLPClassifier\n",
    "clf = MLPClassifier(hidden_layer_sizes = (20,), max_iter = 10000, activation = 'relu', solver = 'sgd', learning_rate_init = 0.01, learning_rate = 'constant')"
   ]
  },
  {
   "cell_type": "code",
   "execution_count": 40,
   "metadata": {},
   "outputs": [
    {
     "data": {
      "text/plain": [
       "MLPClassifier(activation='relu', alpha=0.0001, batch_size='auto', beta_1=0.9,\n",
       "              beta_2=0.999, early_stopping=False, epsilon=1e-08,\n",
       "              hidden_layer_sizes=(20,), learning_rate='constant',\n",
       "              learning_rate_init=0.01, max_fun=15000, max_iter=10000,\n",
       "              momentum=0.9, n_iter_no_change=10, nesterovs_momentum=True,\n",
       "              power_t=0.5, random_state=None, shuffle=True, solver='sgd',\n",
       "              tol=0.0001, validation_fraction=0.1, verbose=False,\n",
       "              warm_start=False)"
      ]
     },
     "execution_count": 40,
     "metadata": {},
     "output_type": "execute_result"
    }
   ],
   "source": [
    "clf.fit(X, Y)"
   ]
  },
  {
   "cell_type": "code",
   "execution_count": 41,
   "metadata": {},
   "outputs": [
    {
     "data": {
      "image/png": "[encoded data removed]",
      "text/plain": [
       "<Figure size 432x288 with 1 Axes>"
      ]
     },
     "metadata": {
      "needs_background": "light"
     },
     "output_type": "display_data"
    }
   ],
   "source": [
    "plot_data(X, Y)\n",
    "plot_surface(clf, X[:, 0], X[:, 1])"
   ]
  },
  {
   "cell_type": "code",
   "execution_count": 42,
   "metadata": {},
   "outputs": [
    {
     "data": {
      "text/plain": [
       "0.847457627118644"
      ]
     },
     "execution_count": 42,
     "metadata": {},
     "output_type": "execute_result"
    }
   ],
   "source": [
    "accuracy_score(Y, clf.predict(X))"
   ]
  },
  {
   "cell_type": "code",
   "execution_count": null,
   "metadata": {},
   "outputs": [],
   "source": [
    "m.sqrt(mean_squared_error(y_test, y_pred))"
   ]
  },
  {
   "cell_type": "code",
   "execution_count": null,
   "metadata": {},
   "outputs": [],
   "source": [
    "mean_squared_error(y_test, y_pred) "
   ]
  },
  {
   "cell_type": "code",
   "execution_count": null,
   "metadata": {},
   "outputs": [],
   "source": []
  },
  {
   "cell_type": "code",
   "execution_count": null,
   "metadata": {},
   "outputs": [],
   "source": []
  }
 ],
 "metadata": {
  "anaconda-cloud": {},
  "kernelspec": {
   "display_name": "Python 3",
   "language": "python",
   "name": "python3"
  },
  "language_info": {
   "codemirror_mode": {
    "name": "ipython",
    "version": 3
   },
   "file_extension": ".py",
   "mimetype": "text/x-python",
   "name": "python",
   "nbconvert_exporter": "python",
   "pygments_lexer": "ipython3",
   "version": "3.8.2"
  }
 },
 "nbformat": 4,
 "nbformat_minor": 1
}
