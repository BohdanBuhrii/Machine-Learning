{
 "cells": [
  {
   "cell_type": "code",
   "execution_count": 1,
   "metadata": {},
   "outputs": [],
   "source": [
    "import newsgroups\n",
    "from sklearn.model_selection import train_test_split\n",
    "from sklearn.feature_extraction.text import TfidfVectorizer\n",
    "from sklearn.metrics import confusion_matrix\n",
    "from sklearn.metrics import classification_report\n",
    "from sklearn.preprocessing import OneHotEncoder\n",
    "\n",
    "import seaborn as sns"
   ]
  },
  {
   "cell_type": "markdown",
   "metadata": {},
   "source": [
    "## Load & clean data"
   ]
  },
  {
   "cell_type": "code",
   "execution_count": 2,
   "metadata": {},
   "outputs": [],
   "source": [
    "data = newsgroups.load()"
   ]
  },
  {
   "cell_type": "code",
   "execution_count": 3,
   "metadata": {},
   "outputs": [
    {
     "data": {
      "text/html": [
       "<div>\n",
       "<style scoped>\n",
       "    .dataframe tbody tr th:only-of-type {\n",
       "        vertical-align: middle;\n",
       "    }\n",
       "\n",
       "    .dataframe tbody tr th {\n",
       "        vertical-align: top;\n",
       "    }\n",
       "\n",
       "    .dataframe thead th {\n",
       "        text-align: right;\n",
       "    }\n",
       "</style>\n",
       "<table border=\"1\" class=\"dataframe\">\n",
       "  <thead>\n",
       "    <tr style=\"text-align: right;\">\n",
       "      <th></th>\n",
       "      <th>text</th>\n",
       "      <th>group</th>\n",
       "    </tr>\n",
       "  </thead>\n",
       "  <tbody>\n",
       "    <tr>\n",
       "      <th>0</th>\n",
       "      <td>morgan and guzman will have era's 1 run higher...</td>\n",
       "      <td>rec.sport.baseball</td>\n",
       "    </tr>\n",
       "    <tr>\n",
       "      <th>1</th>\n",
       "      <td>Well, I just got my Centris 610 yesterday.  It...</td>\n",
       "      <td>comp.sys.mac.hardware</td>\n",
       "    </tr>\n",
       "    <tr>\n",
       "      <th>2</th>\n",
       "      <td>History and classical methods. Modern methods....</td>\n",
       "      <td>sci.crypt</td>\n",
       "    </tr>\n",
       "    <tr>\n",
       "      <th>3</th>\n",
       "      <td>ATTENTION: Mac Quadra owners: Many storage ind...</td>\n",
       "      <td>comp.sys.mac.hardware</td>\n",
       "    </tr>\n",
       "    <tr>\n",
       "      <th>4</th>\n",
       "      <td>To show that the examples I and others have pr...</td>\n",
       "      <td>alt.atheism</td>\n",
       "    </tr>\n",
       "  </tbody>\n",
       "</table>\n",
       "</div>"
      ],
      "text/plain": [
       "                                                text                  group\n",
       "0  morgan and guzman will have era's 1 run higher...     rec.sport.baseball\n",
       "1  Well, I just got my Centris 610 yesterday.  It...  comp.sys.mac.hardware\n",
       "2  History and classical methods. Modern methods....              sci.crypt\n",
       "3  ATTENTION: Mac Quadra owners: Many storage ind...  comp.sys.mac.hardware\n",
       "4  To show that the examples I and others have pr...            alt.atheism"
      ]
     },
     "execution_count": 3,
     "metadata": {},
     "output_type": "execute_result"
    }
   ],
   "source": [
    "data.head()"
   ]
  },
  {
   "cell_type": "markdown",
   "metadata": {},
   "source": [
    "## Split data into train and test set"
   ]
  },
  {
   "cell_type": "code",
   "execution_count": 4,
   "metadata": {},
   "outputs": [],
   "source": [
    "train, test = train_test_split(data, test_size=0.2, random_state=42, stratify=data.group)"
   ]
  },
  {
   "cell_type": "code",
   "execution_count": 5,
   "metadata": {},
   "outputs": [
    {
     "name": "stdout",
     "output_type": "stream",
     "text": [
      "Train: (15076, 2) \n",
      "Test: (3770, 2)\n"
     ]
    }
   ],
   "source": [
    "print(\"Train:\", train.shape, \"\\nTest:\", test.shape)"
   ]
  },
  {
   "cell_type": "markdown",
   "metadata": {},
   "source": [
    "### Check label distribution"
   ]
  },
  {
   "cell_type": "code",
   "execution_count": 6,
   "metadata": {},
   "outputs": [
    {
     "data": {
      "text/plain": [
       "rec.sport.hockey            799\n",
       "soc.religion.christian      798\n",
       "rec.motorcycles             797\n",
       "rec.sport.baseball          795\n",
       "sci.crypt                   793\n",
       "sci.med                     792\n",
       "rec.autos                   792\n",
       "comp.windows.x              790\n",
       "sci.space                   790\n",
       "comp.os.ms-windows.misc     788\n",
       "sci.electronics             787\n",
       "comp.sys.ibm.pc.hardware    786\n",
       "misc.forsale                780\n",
       "comp.graphics               778\n",
       "comp.sys.mac.hardware       770\n",
       "talk.politics.mideast       752\n",
       "talk.politics.guns          728\n",
       "alt.atheism                 639\n",
       "talk.politics.misc          620\n",
       "talk.religion.misc          502\n",
       "Name: group, dtype: int64"
      ]
     },
     "execution_count": 6,
     "metadata": {},
     "output_type": "execute_result"
    }
   ],
   "source": [
    "train.group.value_counts()"
   ]
  },
  {
   "cell_type": "code",
   "execution_count": 7,
   "metadata": {},
   "outputs": [
    {
     "data": {
      "text/plain": [
       "rec.sport.hockey            200\n",
       "rec.motorcycles             199\n",
       "rec.sport.baseball          199\n",
       "soc.religion.christian      199\n",
       "rec.autos                   198\n",
       "sci.crypt                   198\n",
       "sci.med                     198\n",
       "comp.windows.x              198\n",
       "sci.space                   197\n",
       "comp.os.ms-windows.misc     197\n",
       "sci.electronics             197\n",
       "comp.sys.ibm.pc.hardware    196\n",
       "misc.forsale                195\n",
       "comp.graphics               195\n",
       "comp.sys.mac.hardware       193\n",
       "talk.politics.mideast       188\n",
       "talk.politics.guns          182\n",
       "alt.atheism                 160\n",
       "talk.politics.misc          155\n",
       "talk.religion.misc          126\n",
       "Name: group, dtype: int64"
      ]
     },
     "execution_count": 7,
     "metadata": {},
     "output_type": "execute_result"
    }
   ],
   "source": [
    "test.group.value_counts()"
   ]
  },
  {
   "cell_type": "markdown",
   "metadata": {},
   "source": [
    "## Encoding with TF-IDF"
   ]
  },
  {
   "cell_type": "code",
   "execution_count": 8,
   "metadata": {},
   "outputs": [],
   "source": [
    "tfidf = TfidfVectorizer(max_features=10000).fit(train.text)"
   ]
  },
  {
   "cell_type": "code",
   "execution_count": 9,
   "metadata": {},
   "outputs": [
    {
     "data": {
      "text/plain": [
       "[(1000, 'answering'),\n",
       " (1001, 'answers'),\n",
       " (1002, 'antenna'),\n",
       " (1003, 'anthony'),\n",
       " (1004, 'anti'),\n",
       " (1005, 'antibiotic'),\n",
       " (1006, 'antibiotics'),\n",
       " (1007, 'any'),\n",
       " (1008, 'anybody'),\n",
       " (1009, 'anyhow'),\n",
       " (1010, 'anymore'),\n",
       " (1011, 'anyone'),\n",
       " (1012, 'anything'),\n",
       " (1013, 'anytime'),\n",
       " (1014, 'anyway')]"
      ]
     },
     "execution_count": 9,
     "metadata": {},
     "output_type": "execute_result"
    }
   ],
   "source": [
    "keys = sorted((key, token) for token, key in tfidf.vocabulary_.items())\n",
    "keys[1000:1015]"
   ]
  },
  {
   "cell_type": "markdown",
   "metadata": {},
   "source": [
    "### Encoding train and test set"
   ]
  },
  {
   "cell_type": "code",
   "execution_count": 10,
   "metadata": {},
   "outputs": [
    {
     "name": "stdout",
     "output_type": "stream",
     "text": [
      "X_train shape: (15076, 10000)\n",
      "X_test shape: (3770, 10000)\n"
     ]
    }
   ],
   "source": [
    "X_train = tfidf.transform(train.text).toarray()\n",
    "print('X_train shape: %s' % (X_train.shape,))\n",
    "\n",
    "X_test = tfidf.transform(test.text).toarray()\n",
    "print('X_test shape: %s' % (X_test.shape,))"
   ]
  },
  {
   "cell_type": "markdown",
   "metadata": {},
   "source": [
    "## Prepare labels"
   ]
  },
  {
   "cell_type": "code",
   "execution_count": 11,
   "metadata": {},
   "outputs": [],
   "source": [
    "from sklearn.preprocessing import LabelEncoder\n",
    "\n",
    "label_encoder = LabelEncoder().fit(train.group)"
   ]
  },
  {
   "cell_type": "code",
   "execution_count": 12,
   "metadata": {},
   "outputs": [
    {
     "data": {
      "text/plain": [
       "array(['alt.atheism', 'comp.graphics', 'comp.os.ms-windows.misc',\n",
       "       'comp.sys.ibm.pc.hardware', 'comp.sys.mac.hardware',\n",
       "       'comp.windows.x', 'misc.forsale', 'rec.autos', 'rec.motorcycles',\n",
       "       'rec.sport.baseball', 'rec.sport.hockey', 'sci.crypt',\n",
       "       'sci.electronics', 'sci.med', 'sci.space',\n",
       "       'soc.religion.christian', 'talk.politics.guns',\n",
       "       'talk.politics.mideast', 'talk.politics.misc',\n",
       "       'talk.religion.misc'], dtype=object)"
      ]
     },
     "execution_count": 12,
     "metadata": {},
     "output_type": "execute_result"
    }
   ],
   "source": [
    "label_encoder.classes_"
   ]
  },
  {
   "cell_type": "code",
   "execution_count": 13,
   "metadata": {},
   "outputs": [
    {
     "name": "stdout",
     "output_type": "stream",
     "text": [
      "Y_train shape: (15076,)\n",
      "Y_test shape: (3770,)\n"
     ]
    }
   ],
   "source": [
    "Y_train = label_encoder.transform(train.group)\n",
    "print('Y_train shape: %s' % (Y_train.shape,))\n",
    "\n",
    "Y_test = label_encoder.transform(test.group)\n",
    "print('Y_test shape: %s' % (Y_test.shape,))"
   ]
  },
  {
   "cell_type": "markdown",
   "metadata": {},
   "source": [
    "## Train Naive Bayes classifier"
   ]
  },
  {
   "cell_type": "code",
   "execution_count": 14,
   "metadata": {},
   "outputs": [],
   "source": [
    "from sklearn.naive_bayes import MultinomialNB\n",
    "\n",
    "clf = MultinomialNB().fit(X_train, Y_train)"
   ]
  },
  {
   "cell_type": "code",
   "execution_count": 15,
   "metadata": {},
   "outputs": [],
   "source": [
    "def show_report(Y, Y_hat, target_names, show_confusion_matrix=True):\n",
    "  print(\"Classification report:\")\n",
    "  print(classification_report(Y, Y_hat, target_names=target_names))\n",
    "  \n",
    "  if(show_confusion_matrix):\n",
    "    print(\"Confusion matrix:\")\n",
    "    cm = confusion_matrix(Y, Y_hat)\n",
    "    sns.heatmap(cm, cmap=\"RdBu_r\")"
   ]
  },
  {
   "cell_type": "markdown",
   "metadata": {},
   "source": [
    "### Train set classification report"
   ]
  },
  {
   "cell_type": "code",
   "execution_count": 16,
   "metadata": {},
   "outputs": [
    {
     "name": "stdout",
     "output_type": "stream",
     "text": [
      "Classification report:\n",
      "                          precision    recall  f1-score   support\n",
      "\n",
      "             alt.atheism       0.88      0.72      0.79       639\n",
      "           comp.graphics       0.84      0.85      0.85       778\n",
      " comp.os.ms-windows.misc       0.83      0.86      0.85       788\n",
      "comp.sys.ibm.pc.hardware       0.79      0.88      0.83       786\n",
      "   comp.sys.mac.hardware       0.92      0.89      0.91       770\n",
      "          comp.windows.x       0.92      0.88      0.90       790\n",
      "            misc.forsale       0.90      0.80      0.85       780\n",
      "               rec.autos       0.91      0.94      0.92       792\n",
      "         rec.motorcycles       0.96      0.95      0.96       797\n",
      "      rec.sport.baseball       0.96      0.97      0.97       795\n",
      "        rec.sport.hockey       0.94      0.98      0.96       799\n",
      "               sci.crypt       0.91      0.95      0.93       793\n",
      "         sci.electronics       0.88      0.84      0.86       787\n",
      "                 sci.med       0.94      0.95      0.95       792\n",
      "               sci.space       0.95      0.93      0.94       790\n",
      "  soc.religion.christian       0.59      0.97      0.74       798\n",
      "      talk.politics.guns       0.75      0.96      0.84       728\n",
      "   talk.politics.mideast       0.92      0.95      0.94       752\n",
      "      talk.politics.misc       0.97      0.67      0.79       620\n",
      "      talk.religion.misc       1.00      0.10      0.18       502\n",
      "\n",
      "                accuracy                           0.87     15076\n",
      "               macro avg       0.89      0.85      0.85     15076\n",
      "            weighted avg       0.89      0.87      0.86     15076\n",
      "\n"
     ]
    }
   ],
   "source": [
    "show_report(Y_train, clf.predict(X_train), target_names=label_encoder.classes_, show_confusion_matrix=False)"
   ]
  },
  {
   "cell_type": "markdown",
   "metadata": {},
   "source": [
    "### Test set classification report"
   ]
  },
  {
   "cell_type": "code",
   "execution_count": 17,
   "metadata": {},
   "outputs": [
    {
     "name": "stdout",
     "output_type": "stream",
     "text": [
      "Classification report:\n",
      "                          precision    recall  f1-score   support\n",
      "\n",
      "             alt.atheism       0.79      0.58      0.67       160\n",
      "           comp.graphics       0.72      0.79      0.76       195\n",
      " comp.os.ms-windows.misc       0.77      0.77      0.77       197\n",
      "comp.sys.ibm.pc.hardware       0.69      0.79      0.73       196\n",
      "   comp.sys.mac.hardware       0.85      0.77      0.81       193\n",
      "          comp.windows.x       0.84      0.82      0.83       198\n",
      "            misc.forsale       0.89      0.75      0.81       195\n",
      "               rec.autos       0.87      0.86      0.86       198\n",
      "         rec.motorcycles       0.88      0.90      0.89       199\n",
      "      rec.sport.baseball       0.95      0.95      0.95       199\n",
      "        rec.sport.hockey       0.93      0.93      0.93       200\n",
      "               sci.crypt       0.85      0.91      0.88       198\n",
      "         sci.electronics       0.82      0.77      0.79       197\n",
      "                 sci.med       0.94      0.88      0.91       198\n",
      "               sci.space       0.91      0.91      0.91       197\n",
      "  soc.religion.christian       0.52      0.96      0.68       199\n",
      "      talk.politics.guns       0.67      0.95      0.79       182\n",
      "   talk.politics.mideast       0.89      0.92      0.90       188\n",
      "      talk.politics.misc       0.94      0.52      0.67       155\n",
      "      talk.religion.misc       1.00      0.04      0.08       126\n",
      "\n",
      "                accuracy                           0.81      3770\n",
      "               macro avg       0.84      0.79      0.78      3770\n",
      "            weighted avg       0.83      0.81      0.80      3770\n",
      "\n",
      "Confusion matrix:\n"
     ]
    },
    {
     "data": {
      "image/png": "[encoded data removed]",
      "text/plain": [
       "<Figure size 432x288 with 2 Axes>"
      ]
     },
     "metadata": {
      "needs_background": "light"
     },
     "output_type": "display_data"
    }
   ],
   "source": [
    "show_report(Y_test, clf.predict(X_test), target_names=label_encoder.classes_)"
   ]
  },
  {
   "cell_type": "markdown",
   "metadata": {},
   "source": [
    "## Train MLPClassifier"
   ]
  },
  {
   "cell_type": "code",
   "execution_count": 18,
   "metadata": {},
   "outputs": [],
   "source": [
    "from sklearn.neural_network import MLPClassifier"
   ]
  },
  {
   "cell_type": "code",
   "execution_count": 19,
   "metadata": {},
   "outputs": [],
   "source": [
    "clf = MLPClassifier(alpha=1e-5, hidden_layer_sizes=(50,), random_state=42, early_stopping=True)"
   ]
  },
  {
   "cell_type": "code",
   "execution_count": 20,
   "metadata": {},
   "outputs": [
    {
     "data": {
      "text/plain": [
       "MLPClassifier(activation='relu', alpha=1e-05, batch_size='auto', beta_1=0.9,\n",
       "              beta_2=0.999, early_stopping=True, epsilon=1e-08,\n",
       "              hidden_layer_sizes=(50,), learning_rate='constant',\n",
       "              learning_rate_init=0.001, max_fun=15000, max_iter=200,\n",
       "              momentum=0.9, n_iter_no_change=10, nesterovs_momentum=True,\n",
       "              power_t=0.5, random_state=42, shuffle=True, solver='adam',\n",
       "              tol=0.0001, validation_fraction=0.1, verbose=False,\n",
       "              warm_start=False)"
      ]
     },
     "execution_count": 20,
     "metadata": {},
     "output_type": "execute_result"
    }
   ],
   "source": [
    "clf.fit(X_train, Y_train)"
   ]
  },
  {
   "cell_type": "code",
   "execution_count": 21,
   "metadata": {},
   "outputs": [
    {
     "name": "stdout",
     "output_type": "stream",
     "text": [
      "                          precision    recall  f1-score   support\n",
      "\n",
      "             alt.atheism       0.83      0.83      0.83       160\n",
      "           comp.graphics       0.82      0.88      0.85       195\n",
      " comp.os.ms-windows.misc       0.81      0.84      0.83       197\n",
      "comp.sys.ibm.pc.hardware       0.81      0.77      0.79       196\n",
      "   comp.sys.mac.hardware       0.86      0.82      0.84       193\n",
      "          comp.windows.x       0.84      0.87      0.86       198\n",
      "            misc.forsale       0.85      0.85      0.85       195\n",
      "               rec.autos       0.89      0.89      0.89       198\n",
      "         rec.motorcycles       0.94      0.91      0.92       199\n",
      "      rec.sport.baseball       0.94      0.97      0.95       199\n",
      "        rec.sport.hockey       0.99      0.92      0.96       200\n",
      "               sci.crypt       0.96      0.93      0.95       198\n",
      "         sci.electronics       0.84      0.87      0.86       197\n",
      "                 sci.med       0.92      0.92      0.92       198\n",
      "               sci.space       0.92      0.95      0.94       197\n",
      "  soc.religion.christian       0.90      0.93      0.92       199\n",
      "      talk.politics.guns       0.88      0.92      0.90       182\n",
      "   talk.politics.mideast       0.95      0.95      0.95       188\n",
      "      talk.politics.misc       0.86      0.82      0.84       155\n",
      "      talk.religion.misc       0.79      0.71      0.74       126\n",
      "\n",
      "                accuracy                           0.88      3770\n",
      "               macro avg       0.88      0.88      0.88      3770\n",
      "            weighted avg       0.88      0.88      0.88      3770\n",
      "\n"
     ]
    }
   ],
   "source": [
    "print(classification_report(Y_test, clf.predict(X_test), target_names=label_encoder.classes_))"
   ]
  },
  {
   "cell_type": "markdown",
   "metadata": {},
   "source": [
    "## Train Neural Net"
   ]
  },
  {
   "cell_type": "code",
   "execution_count": 22,
   "metadata": {},
   "outputs": [
    {
     "data": {
      "text/plain": [
       "(15076, 20)"
      ]
     },
     "execution_count": 22,
     "metadata": {},
     "output_type": "execute_result"
    }
   ],
   "source": [
    "Y_train_e = OneHotEncoder().fit_transform(Y_train.reshape(-1, 1)).toarray()\n",
    "Y_train_e.shape"
   ]
  },
  {
   "cell_type": "code",
   "execution_count": 23,
   "metadata": {},
   "outputs": [],
   "source": [
    "from CustomNeuralNet import NeuralNet"
   ]
  },
  {
   "cell_type": "code",
   "execution_count": 26,
   "metadata": {},
   "outputs": [],
   "source": [
    "nn = NeuralNet([X_train.shape[1], 50, Y_train_e.shape[1]], normalize=True, learning_rate=0.1,\n",
    "               num_iter=50, mini_batch_size=2048, activation=\"sigmoid\")"
   ]
  },
  {
   "cell_type": "code",
   "execution_count": 27,
   "metadata": {},
   "outputs": [
    {
     "name": "stdout",
     "output_type": "stream",
     "text": [
      "(50, 10000)\n",
      "(20, 50)\n"
     ]
    },
    {
     "name": "stderr",
     "output_type": "stream",
     "text": [
      "D:\\USERS\\Buhrii_B\\Machine Learning\\lnu\\_Machine_Learning-LNU\\Text Classification\\CustomNeuralNet.py:31: RuntimeWarning: overflow encountered in exp\n",
      "  return 1 / (1 + np.exp(-Z))\n"
     ]
    },
    {
     "name": "stdout",
     "output_type": "stream",
     "text": [
      "Cost after iteration 0: 0.149395\n",
      "Cost after iteration 10: 0.143492\n",
      "Cost after iteration 20: 0.121293\n",
      "Cost after iteration 30: 0.085067\n",
      "Cost after iteration 40: 0.058996\n"
     ]
    },
    {
     "data": {
      "image/png": "[encoded data removed]",
      "text/plain": [
       "<Figure size 432x288 with 1 Axes>"
      ]
     },
     "metadata": {
      "needs_background": "light"
     },
     "output_type": "display_data"
    }
   ],
   "source": [
    "nn.fit(X_train, Y_train_e)"
   ]
  },
  {
   "cell_type": "code",
   "execution_count": 28,
   "metadata": {},
   "outputs": [
    {
     "name": "stdout",
     "output_type": "stream",
     "text": [
      "Classification report:\n",
      "                          precision    recall  f1-score   support\n",
      "\n",
      "             alt.atheism       0.84      0.81      0.82       639\n",
      "           comp.graphics       0.81      0.84      0.82       778\n",
      " comp.os.ms-windows.misc       0.83      0.86      0.85       788\n",
      "comp.sys.ibm.pc.hardware       0.86      0.86      0.86       786\n",
      "   comp.sys.mac.hardware       0.92      0.89      0.90       770\n",
      "          comp.windows.x       0.89      0.92      0.91       790\n",
      "            misc.forsale       0.89      0.84      0.87       780\n",
      "               rec.autos       0.92      0.95      0.93       792\n",
      "         rec.motorcycles       0.94      0.95      0.94       797\n",
      "      rec.sport.baseball       0.94      0.97      0.96       795\n",
      "        rec.sport.hockey       0.97      0.98      0.97       799\n",
      "               sci.crypt       0.94      0.94      0.94       793\n",
      "         sci.electronics       0.89      0.89      0.89       787\n",
      "                 sci.med       0.93      0.93      0.93       792\n",
      "               sci.space       0.89      0.95      0.92       790\n",
      "  soc.religion.christian       0.77      0.96      0.86       798\n",
      "      talk.politics.guns       0.85      0.92      0.88       728\n",
      "   talk.politics.mideast       0.91      0.95      0.93       752\n",
      "      talk.politics.misc       0.91      0.75      0.83       620\n",
      "      talk.religion.misc       0.95      0.41      0.57       502\n",
      "\n",
      "                accuracy                           0.89     15076\n",
      "               macro avg       0.89      0.88      0.88     15076\n",
      "            weighted avg       0.89      0.89      0.89     15076\n",
      "\n"
     ]
    }
   ],
   "source": [
    "show_report(Y_train, nn.predict(X_train), target_names=label_encoder.classes_, show_confusion_matrix=False)"
   ]
  },
  {
   "cell_type": "code",
   "execution_count": 29,
   "metadata": {},
   "outputs": [
    {
     "name": "stdout",
     "output_type": "stream",
     "text": [
      "Classification report:\n",
      "                          precision    recall  f1-score   support\n",
      "\n",
      "             alt.atheism       0.63      0.59      0.61       160\n",
      "           comp.graphics       0.54      0.55      0.55       195\n",
      " comp.os.ms-windows.misc       0.56      0.63      0.60       197\n",
      "comp.sys.ibm.pc.hardware       0.63      0.57      0.60       196\n",
      "   comp.sys.mac.hardware       0.65      0.62      0.63       193\n",
      "          comp.windows.x       0.68      0.66      0.67       198\n",
      "            misc.forsale       0.66      0.50      0.57       195\n",
      "               rec.autos       0.73      0.68      0.70       198\n",
      "         rec.motorcycles       0.69      0.80      0.74       199\n",
      "      rec.sport.baseball       0.89      0.88      0.89       199\n",
      "        rec.sport.hockey       0.78      0.89      0.83       200\n",
      "               sci.crypt       0.77      0.84      0.80       198\n",
      "         sci.electronics       0.65      0.65      0.65       197\n",
      "                 sci.med       0.76      0.76      0.76       198\n",
      "               sci.space       0.65      0.80      0.72       197\n",
      "  soc.religion.christian       0.64      0.80      0.71       199\n",
      "      talk.politics.guns       0.67      0.81      0.74       182\n",
      "   talk.politics.mideast       0.81      0.86      0.83       188\n",
      "      talk.politics.misc       0.70      0.51      0.59       155\n",
      "      talk.religion.misc       0.81      0.17      0.28       126\n",
      "\n",
      "                accuracy                           0.69      3770\n",
      "               macro avg       0.70      0.68      0.67      3770\n",
      "            weighted avg       0.69      0.69      0.68      3770\n",
      "\n",
      "Confusion matrix:\n"
     ]
    },
    {
     "data": {
      "image/png": "[encoded data removed]",
      "text/plain": [
       "<Figure size 432x288 with 2 Axes>"
      ]
     },
     "metadata": {
      "needs_background": "light"
     },
     "output_type": "display_data"
    }
   ],
   "source": [
    "show_report(Y_test, nn.predict(X_test), target_names=label_encoder.classes_)"
   ]
  },
  {
   "cell_type": "code",
   "execution_count": null,
   "metadata": {},
   "outputs": [],
   "source": []
  }
 ],
 "metadata": {
  "kernelspec": {
   "display_name": "Python 3",
   "language": "python",
   "name": "python3"
  },
  "language_info": {
   "codemirror_mode": {
    "name": "ipython",
    "version": 3
   },
   "file_extension": ".py",
   "mimetype": "text/x-python",
   "name": "python",
   "nbconvert_exporter": "python",
   "pygments_lexer": "ipython3",
   "version": "3.8.2"
  }
 },
 "nbformat": 4,
 "nbformat_minor": 4
}
